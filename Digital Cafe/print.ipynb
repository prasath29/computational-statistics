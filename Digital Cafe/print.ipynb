{
 "cells": [
  {
   "cell_type": "markdown",
   "metadata": {},
   "source": [
    "# Using the print() function, print to the console: 'Learn Python!'"
   ]
  },
  {
   "cell_type": "code",
   "execution_count": 1,
   "metadata": {},
   "outputs": [
    {
     "name": "stdout",
     "output_type": "stream",
     "text": [
      "Learn Python!\n"
     ]
    }
   ],
   "source": [
    "print('Learn Python!')"
   ]
  },
  {
   "cell_type": "markdown",
   "metadata": {},
   "source": [
    "# Using the four print() function (one line - one function) print the following text:\n",
    "### ========================================\n",
    "### author: johnsmith@sample.com\n",
    "### date: 01-01-2021\n",
    "### =======================================\n",
    "# Tip: The lines consist of 40 equal signs: '='."
   ]
  },
  {
   "cell_type": "code",
   "execution_count": 3,
   "metadata": {},
   "outputs": [
    {
     "name": "stdout",
     "output_type": "stream",
     "text": [
      "========================================\n",
      "author: johnsmith@sample.com\n",
      "date: 01-01-2021\n",
      "========================================\n"
     ]
    }
   ],
   "source": [
    "print('========================================')\n",
    "print('author: johnsmith@sample.com')\n",
    "print('date: 01-01-2021')\n",
    "print('========================================')"
   ]
  },
  {
   "cell_type": "markdown",
   "metadata": {},
   "source": [
    "# Create two variables (you can freely choose the names) and assign to them following values:\n",
    "\n",
    "### 'Python'\n",
    "\n",
    "### '3.8'\n",
    "\n",
    "# Using these variables and the print() function, print to the console the following text:\n",
    "\n",
    "### I am learning Python version 3.8"
   ]
  },
  {
   "cell_type": "code",
   "execution_count": 4,
   "metadata": {},
   "outputs": [
    {
     "name": "stdout",
     "output_type": "stream",
     "text": [
      "I am learning Python version 3.8\n"
     ]
    }
   ],
   "source": [
    "a = 'Python'\n",
    "b = '3.8'\n",
    "print('I am learning {} version {}'.format(a,b))"
   ]
  },
  {
   "cell_type": "markdown",
   "metadata": {},
   "source": [
    "# Below is an approximation of pi:\n",
    "\n",
    "### pi = 3.1415926535\n",
    "\n",
    "# Print the approximation of pi to two decimal places as shown below.\n",
    "\n",
    "# Expected result:\n",
    "\n",
    "### Pi: 3.14"
   ]
  },
  {
   "cell_type": "code",
   "execution_count": 5,
   "metadata": {},
   "outputs": [
    {
     "name": "stdout",
     "output_type": "stream",
     "text": [
      "Pi: 3.14\n"
     ]
    }
   ],
   "source": [
    "pi = 3.1415926535\n",
    "print(\"Pi: {:.2f}\".format(pi))"
   ]
  },
  {
   "cell_type": "markdown",
   "metadata": {},
   "source": [
    "# Assign to the variable age number 20. Using the age variable and the print() function print to the console the following text:\n",
    "\n",
    "### I am 20 years old."
   ]
  },
  {
   "cell_type": "code",
   "execution_count": 6,
   "metadata": {},
   "outputs": [
    {
     "name": "stdout",
     "output_type": "stream",
     "text": [
      "I am 20 years old.\n"
     ]
    }
   ],
   "source": [
    "a = 20\n",
    "print (\"I am {} years old.\". format(a))"
   ]
  },
  {
   "cell_type": "markdown",
   "metadata": {},
   "source": [
    "# Using three print() function (one line - one function) print the following text:\n",
    "\n",
    "### ----------------------------------------\n",
    "\n",
    "### VERSION: 1.0.1\n",
    "\n",
    "### ----------------------------------------\n",
    "\n",
    "# Tip: The lines consist of 40 dash characters: '-'."
   ]
  },
  {
   "cell_type": "code",
   "execution_count": 7,
   "metadata": {},
   "outputs": [
    {
     "name": "stdout",
     "output_type": "stream",
     "text": [
      "----------------------------------------\n",
      "VERSION: 1.0.1\n",
      "----------------------------------------\n"
     ]
    }
   ],
   "source": [
    "print('----------------------------------------')\n",
    "print('VERSION: 1.0.1')\n",
    "print('----------------------------------------')"
   ]
  },
  {
   "cell_type": "markdown",
   "metadata": {},
   "source": [
    "# Assign 199.99 to the price variable and check the solution.\n",
    "\n",
    "# Expected result:\n",
    "\n",
    "### This costs 199.99\n",
    "\n"
   ]
  },
  {
   "cell_type": "code",
   "execution_count": 8,
   "metadata": {},
   "outputs": [
    {
     "name": "stdout",
     "output_type": "stream",
     "text": [
      "This costs 199.99\n"
     ]
    }
   ],
   "source": [
    "price = 199.99\n",
    "print(\"This costs {}\".format(price))"
   ]
  },
  {
   "cell_type": "markdown",
   "metadata": {},
   "source": [
    "# Assign 69.99 to the price variable and check the solution.\n",
    "\n",
    "# Expected result:\n",
    "\n",
    "### This costs 69.99"
   ]
  },
  {
   "cell_type": "code",
   "execution_count": 9,
   "metadata": {},
   "outputs": [
    {
     "name": "stdout",
     "output_type": "stream",
     "text": [
      "This costs 69.99\n"
     ]
    }
   ],
   "source": [
    "price = 69.99\n",
    "print(\"This costs {}\".format(price))"
   ]
  },
  {
   "cell_type": "markdown",
   "metadata": {},
   "source": [
    "# Assign two variables that store the following values:\n",
    "\n",
    "### $ 34.99 - product price (float)\n",
    "\n",
    "### 20 lbs - product weight (int)\n",
    "\n",
    "# Print to the console the following message:\n",
    "\n",
    "### Price: $34.99. Weight: 20 lbs."
   ]
  },
  {
   "cell_type": "code",
   "execution_count": 10,
   "metadata": {},
   "outputs": [
    {
     "name": "stdout",
     "output_type": "stream",
     "text": [
      "Price: $34.99. Weight: 20 lbs.\n"
     ]
    }
   ],
   "source": [
    "a = 34.99\n",
    "b = 20\n",
    "print(\"Price: ${}. Weight: {} lbs.\".format(a,b))\n"
   ]
  },
  {
   "cell_type": "markdown",
   "metadata": {},
   "source": [
    "# Using the print() function and the sep argument set to '#' print the following text:'\n",
    "\n",
    "### 'summer#time#holiday'"
   ]
  },
  {
   "cell_type": "code",
   "execution_count": 11,
   "metadata": {},
   "outputs": [
    {
     "name": "stdout",
     "output_type": "stream",
     "text": [
      "summer#time#holiday\n"
     ]
    }
   ],
   "source": [
    "print('summer#time#holiday')\n"
   ]
  }
 ],
 "metadata": {
  "kernelspec": {
   "display_name": "Python 3.10.6 64-bit",
   "language": "python",
   "name": "python3"
  },
  "language_info": {
   "codemirror_mode": {
    "name": "ipython",
    "version": 3
   },
   "file_extension": ".py",
   "mimetype": "text/x-python",
   "name": "python",
   "nbconvert_exporter": "python",
   "pygments_lexer": "ipython3",
   "version": "3.10.6"
  },
  "orig_nbformat": 4,
  "vscode": {
   "interpreter": {
    "hash": "31f2aee4e71d21fbe5cf8b01ff0e069b9275f58929596ceb00d14d90e3e16cd6"
   }
  }
 },
 "nbformat": 4,
 "nbformat_minor": 2
}
