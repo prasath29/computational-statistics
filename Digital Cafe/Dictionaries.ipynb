{
 "cells": [
  {
   "cell_type": "markdown",
   "metadata": {},
   "source": [
    "## The following dictionary is given:\n",
    "\n",
    "### capitals = {    \n",
    "\n",
    "### 'USA': 'Washington',    \n",
    "\n",
    "### 'Germany': 'Berlin',    \n",
    "\n",
    "### 'Austria': 'Vienna'\n",
    "\n",
    "### }\n",
    "\n",
    "### Using the dict.get() method, extract the value for the key 'Austria' and print it to the console.\n",
    "\n",
    "## Expected result:\n",
    "\n",
    "### Vienna"
   ]
  },
  {
   "cell_type": "code",
   "execution_count": 1,
   "metadata": {},
   "outputs": [
    {
     "name": "stdout",
     "output_type": "stream",
     "text": [
      "Vienna\n"
     ]
    }
   ],
   "source": [
    "capitals = {'USA':'Washington','Germany':'Berlin','Austria':'Vienna'}\n",
    "print(capitals.get('Austria'))"
   ]
  },
  {
   "cell_type": "markdown",
   "metadata": {},
   "source": [
    "## The following dictionary is given:\n",
    "\n",
    "### project_ids = {    \n",
    "\n",
    "### '01': 'open',     \n",
    "\n",
    "### '03': 'in progress',    \n",
    "\n",
    "### '05': 'in progress',    \n",
    "\n",
    "### '04': 'completed'\n",
    "\n",
    "### }\n",
    "\n",
    "## Extract a list of unique values (sorted alphabetically) from the project_ids dictionary and print it to the console.\n",
    "\n",
    "## Expected result:\n",
    "\n",
    "### ['completed', 'in progress', 'open']"
   ]
  },
  {
   "cell_type": "code",
   "execution_count": 2,
   "metadata": {},
   "outputs": [
    {
     "name": "stdout",
     "output_type": "stream",
     "text": [
      "['completed', 'in progress', 'open']\n"
     ]
    }
   ],
   "source": [
    "project_ids = {'01':'open',\n",
    "               '03':'in progress',\n",
    "               '05':'in progress',\n",
    "               '04':'completed'}\n",
    "list1 = list(project_ids.values())\n",
    "output = []\n",
    "for x in list1:\n",
    "    if x not in output:\n",
    "        output.append(x)\n",
    "a = sorted(output)\n",
    "print(a)"
   ]
  },
  {
   "cell_type": "markdown",
   "metadata": {},
   "source": [
    "## The following dictionary is given:\n",
    "\n",
    "### stocks = {    \n",
    "\n",
    "### 'MSFT.US': {'Microsoft Corp': 184},    \n",
    "\n",
    "### 'AAPL.US': {'Apple Inc': 310},    \n",
    "\n",
    "### 'MMM.US': {'3M Co': 148}\n",
    "\n",
    "### }\n",
    "\n",
    "## Extract the value for the key 'AAPL.US' and print it to the console.\n",
    "\n",
    "## Expected result:\n",
    "\n",
    "### {'Apple Inc': 310}"
   ]
  },
  {
   "cell_type": "code",
   "execution_count": 3,
   "metadata": {},
   "outputs": [
    {
     "name": "stdout",
     "output_type": "stream",
     "text": [
      "{'Apple Inc': 310}\n"
     ]
    }
   ],
   "source": [
    "stocks = {'MSFT.US':{'Microsoft Corp':184},\n",
    "          'AAPL.US':{'Apple Inc':310},\n",
    "          'MMM.US':{'3M Co':148}}\n",
    "print(stocks.get('AAPL.US'))"
   ]
  },
  {
   "cell_type": "markdown",
   "metadata": {},
   "source": [
    "## The following dictionary is given:\n",
    "\n",
    "### stocks = {    \n",
    "\n",
    "### 'MSFT.US': {'Microsoft Corp': 184},    \n",
    "\n",
    "### 'AAPL.US': {'Apple Inc': 310},    \n",
    "\n",
    "### 'MMM.US': {'3M Co': 148}\n",
    "\n",
    "### }\n",
    "\n",
    "## Get the price for Microsoft (value for the 'Microsoft Corp' key) and print it to the console.\n",
    "\n",
    "## Expected result:\n",
    "\n",
    "### 184"
   ]
  },
  {
   "cell_type": "code",
   "execution_count": 4,
   "metadata": {},
   "outputs": [
    {
     "name": "stdout",
     "output_type": "stream",
     "text": [
      "184\n"
     ]
    }
   ],
   "source": [
    "stocks = {'MSFT.US':{'Microsoft Corp':184},\n",
    "          'AAPL.US':{'Apple Inc':310},\n",
    "          'MMM.US':{'3M Co':148}}\n",
    "value = stocks['MSFT.US']['Microsoft Corp']\n",
    "print(value)"
   ]
  },
  {
   "cell_type": "markdown",
   "metadata": {},
   "source": [
    "## The following dictionary is given:\n",
    "\n",
    "### users = {'001': 'Mark', '002': 'Monica', '003': 'Jacob'}\n",
    "\n",
    "## Try to print value for key '004'.\n",
    "\n",
    "## In this exercise use the dict.get() method. When the key is not in the dictionary set default value to the string 'indefinite'.\n",
    "\n",
    "## Expected result:\n",
    "\n",
    "### 'indefinite'\n",
    "\n"
   ]
  },
  {
   "cell_type": "code",
   "execution_count": 5,
   "metadata": {},
   "outputs": [
    {
     "name": "stdout",
     "output_type": "stream",
     "text": [
      "indefinite\n"
     ]
    }
   ],
   "source": [
    "users = {'001':'Mark','002':'Monica','003':'Jacob'}\n",
    "value = users.get('004', \"indefinite\")\n",
    "print(value)"
   ]
  },
  {
   "cell_type": "markdown",
   "metadata": {},
   "source": [
    "## The following dictionary is given:\n",
    "\n",
    "### stocks = {    \n",
    "\n",
    "### 'MSFT.US': {'Microsoft Corp': 184},    \n",
    "\n",
    "### 'AAPL.US': {'Apple Inc': 310},    \n",
    "\n",
    "### 'MMM.US': {'3M Co': 148}\n",
    "\n",
    "### }\n",
    "\n",
    "### Update the price for Microsoft to 190 and print the value for the 'MSFT.US' key to the console.\n",
    "\n",
    "### Expected result:\n",
    "\n",
    "### {'Microsoft Corp': 190}"
   ]
  },
  {
   "cell_type": "code",
   "execution_count": 6,
   "metadata": {},
   "outputs": [
    {
     "name": "stdout",
     "output_type": "stream",
     "text": [
      "{'Microsoft Corp': 190}\n"
     ]
    }
   ],
   "source": [
    "stocks = {'MSFT.US':{'Microsoft Corp':184},\n",
    "          'AAPL.US':{'Apple Inc':310},\n",
    "          'MMM.US':{'3M Co':148}}\n",
    "a = stocks['MSFT.US']['Microsoft Corp'] = 190\n",
    "c = stocks\n",
    "value = c.get('MSFT.US')\n",
    "print(value)"
   ]
  }
 ],
 "metadata": {
  "kernelspec": {
   "display_name": "Python 3.10.6 64-bit",
   "language": "python",
   "name": "python3"
  },
  "language_info": {
   "codemirror_mode": {
    "name": "ipython",
    "version": 3
   },
   "file_extension": ".py",
   "mimetype": "text/x-python",
   "name": "python",
   "nbconvert_exporter": "python",
   "pygments_lexer": "ipython3",
   "version": "3.10.6"
  },
  "orig_nbformat": 4,
  "vscode": {
   "interpreter": {
    "hash": "916dbcbb3f70747c44a77c7bcd40155683ae19c65e1c03b4aa3499c5328201f1"
   }
  }
 },
 "nbformat": 4,
 "nbformat_minor": 2
}
