{
 "cells": [
  {
   "cell_type": "markdown",
   "metadata": {},
   "source": [
    "## Sort the given tuple (from A to Z):\n",
    "\n",
    "### names = ('Monica', 'Tom', 'John', 'Michael')\n",
    "\n",
    "## Print the sorted tuple to the console as shown below.\n",
    "\n",
    "## Expected result:\n",
    "\n",
    "#### ('John', 'Michael', 'Monica', 'Tom')"
   ]
  },
  {
   "cell_type": "code",
   "execution_count": 1,
   "metadata": {},
   "outputs": [
    {
     "name": "stdout",
     "output_type": "stream",
     "text": [
      "('John', 'Michael', 'Monica', 'Tom')\n"
     ]
    }
   ],
   "source": [
    "names = ('Monica','Tom','John','Michael')\n",
    "a = tuple(sorted(names))\n",
    "print(a)"
   ]
  },
  {
   "cell_type": "markdown",
   "metadata": {},
   "source": [
    "## Two following tuples are given:\n",
    "\n",
    "### dji1 = ('AAPL.US', 'IBM.US', 'MSFT.US')\n",
    "\n",
    "### dji2 = ('HD.US', 'GS.US', 'NKE.US')\n",
    "\n",
    "## Combine these tuples into one as shown below and print the result to the console.\n",
    "\n",
    "## Expected result:\n",
    "\n",
    "### ('AAPL.US', 'IBM.US', 'MSFT.US', 'HD.US', 'GS.US', 'NKE.US')"
   ]
  },
  {
   "cell_type": "code",
   "execution_count": 2,
   "metadata": {},
   "outputs": [
    {
     "name": "stdout",
     "output_type": "stream",
     "text": [
      "('AAPL.US', 'IBM.US', 'MSFT.US', 'HD.US', 'GS.US', 'NKE.US')\n"
     ]
    }
   ],
   "source": [
    "dji1 = ('AAPL.US','IBM.US','MSFT.US')\n",
    "dji2 = ('HD.US','GS.US','NKE.US')\n",
    "result = sum((dji1,dji2),())\n",
    "print(result)"
   ]
  },
  {
   "cell_type": "markdown",
   "metadata": {},
   "source": [
    "## The following tuples are given:\n",
    "\n",
    "### dji1 = ('AAPL.US', 'IBM.US', 'MSFT.US')\n",
    "\n",
    "### dji2 = ('HD.US', 'GS.US', 'NKE.US')\n",
    "\n",
    "## Nest these tuples into one tuple as shown below and print the result to the console.\n",
    "\n",
    "## Expected result:\n",
    "\n",
    "### (('AAPL.US', 'IBM.US', 'MSFT.US'), ('HD.US', 'GS.US', 'NKE.US'))"
   ]
  },
  {
   "cell_type": "code",
   "execution_count": 3,
   "metadata": {},
   "outputs": [
    {
     "name": "stdout",
     "output_type": "stream",
     "text": [
      "(('AAPL.US', 'IBM.US', 'MSFT.US'), ('HD.US', 'GS.US', 'NKE.US'))\n"
     ]
    }
   ],
   "source": [
    "dji1 = ('AAPL.US','IBM.US','MSFT.US')\n",
    "dji2 = ('HD.US','GS.US','NKE.US')\n",
    "result = ((dji1, ) + (dji2,))\n",
    "print(result)"
   ]
  },
  {
   "cell_type": "markdown",
   "metadata": {},
   "source": [
    "## Tuples are immutable. The following tuple is given:\n",
    "\n",
    "### members = (('Kate', 23), ('Tom', 19))\n",
    "\n",
    "### Insert a tuple ('John', 26) between Kate and Tom as shown below. Print the result to the console.\n",
    "\n",
    "## Tip: You have to create a new tuple.\n",
    "\n",
    "# Expected result:\n",
    "\n",
    "### (('Kate', 23), ('John', 26), ('Tom', 19))"
   ]
  },
  {
   "cell_type": "code",
   "execution_count": 4,
   "metadata": {},
   "outputs": [
    {
     "name": "stdout",
     "output_type": "stream",
     "text": [
      "(('Kate', 23), ('John', 26), ('Tom', 19))\n"
     ]
    }
   ],
   "source": [
    "members = (('Kate',23),('Tom',19))\n",
    "newtup = members[:1] + (('John',26),) + members[1:]\n",
    "print(newtup)"
   ]
  },
  {
   "cell_type": "markdown",
   "metadata": {},
   "source": [
    "## The following tuple is given:\n",
    "\n",
    "###  default = ('YES', 'NO', 'NO', 'YES', 'NO')\n",
    "\n",
    "## Using the appropriate method return the number of occurrences of the string 'YES' and print the result to the console as shown below.\n",
    "\n",
    "## Expected result:\n",
    "\n",
    "### Number of occurrences: 2"
   ]
  },
  {
   "cell_type": "code",
   "execution_count": 5,
   "metadata": {},
   "outputs": [
    {
     "name": "stdout",
     "output_type": "stream",
     "text": [
      "Number of occurrences: 2\n"
     ]
    }
   ],
   "source": [
    "default = ('YES','NO','NO','NO','YES')\n",
    "f = default.count('YES')\n",
    "print(\"Number of occurrences: {}\".format(f))"
   ]
  },
  {
   "cell_type": "markdown",
   "metadata": {},
   "source": [
    "### techs = ('python', 'java', 'sql', 'aws')\n",
    "\n",
    "###  Sort this tuple from a to z and print it to the console.\n",
    "\n",
    "### Tip: Tuples are immutable. You have to create a new one.\n",
    "\n",
    "## Expected result:\n",
    "\n",
    "### ('aws', 'java', 'python', 'sql')"
   ]
  },
  {
   "cell_type": "code",
   "execution_count": 6,
   "metadata": {},
   "outputs": [
    {
     "name": "stdout",
     "output_type": "stream",
     "text": [
      "('aws', 'java', 'python', 'sql')\n"
     ]
    }
   ],
   "source": [
    "techs = ('python','java','sql','aws')\n",
    "a = tuple(sorted(techs))\n",
    "print(a)"
   ]
  }
 ],
 "metadata": {
  "kernelspec": {
   "display_name": "Python 3.10.6 64-bit",
   "language": "python",
   "name": "python3"
  },
  "language_info": {
   "codemirror_mode": {
    "name": "ipython",
    "version": 3
   },
   "file_extension": ".py",
   "mimetype": "text/x-python",
   "name": "python",
   "nbconvert_exporter": "python",
   "pygments_lexer": "ipython3",
   "version": "3.10.6"
  },
  "orig_nbformat": 4,
  "vscode": {
   "interpreter": {
    "hash": "916dbcbb3f70747c44a77c7bcd40155683ae19c65e1c03b4aa3499c5328201f1"
   }
  }
 },
 "nbformat": 4,
 "nbformat_minor": 2
}
