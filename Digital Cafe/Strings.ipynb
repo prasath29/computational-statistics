{
 "cells": [
  {
   "cell_type": "markdown",
   "metadata": {},
   "source": [
    "## The following paths are given:\n",
    "\n",
    "### path1 = 'youtube.com/watch?v=5EhRztVxums'\n",
    "\n",
    "### path2 = 'google.com/search?q=car'\n",
    "\n",
    "## Using the appropriate method check if the paths refer to YouTube (e.g. start with 'youtube'). Print the result to the console as shown below.\n",
    "\n",
    "## Expected result:\n",
    "\n",
    "### path1: True\n",
    "\n",
    "### path2: False"
   ]
  },
  {
   "cell_type": "code",
   "execution_count": 1,
   "metadata": {},
   "outputs": [
    {
     "name": "stdout",
     "output_type": "stream",
     "text": [
      "path1: True\n",
      "path2: False\n"
     ]
    }
   ],
   "source": [
    "path1 = 'youtube.com/watch?v=5EhRztVxums'\n",
    "path2 = 'google.com/search?q=car'\n",
    "a = \"youtube\" in path1\n",
    "b = \"youtube\" in path2\n",
    "print(\"path1: {}\".format(a))\n",
    "print(\"path2: {}\".format(b))"
   ]
  },
  {
   "cell_type": "markdown",
   "metadata": {},
   "source": [
    "## The following text is given:\n",
    "\n",
    "### text = '  Google Colab  '\n",
    "\n",
    "## Using the appropriate method remove whitespace characters around the text. Print the result to the console.\n",
    "\n",
    "## Expected result:\n",
    "\n",
    "### Google Colab"
   ]
  },
  {
   "cell_type": "code",
   "execution_count": 2,
   "metadata": {},
   "outputs": [
    {
     "name": "stdout",
     "output_type": "stream",
     "text": [
      "Google Colab\n"
     ]
    }
   ],
   "source": [
    "text = \" Google Colab \"\n",
    "print(text.strip())"
   ]
  },
  {
   "cell_type": "markdown",
   "metadata": {},
   "source": [
    "## The following text is given:\n",
    "\n",
    "### text = 'Open,High,Low,Close'\n",
    "\n",
    "## Using the appropriate method split the text by comma. Print the result as a list to the console as shown below.\n",
    "\n",
    "## Expected result:\n",
    "\n",
    "### ['Open', 'High', 'Low', 'Close']"
   ]
  },
  {
   "cell_type": "code",
   "execution_count": 3,
   "metadata": {},
   "outputs": [
    {
     "name": "stdout",
     "output_type": "stream",
     "text": [
      "['Open', 'High', 'Low', 'Close']\n"
     ]
    }
   ],
   "source": [
    "text  = 'Open,High,Low,Close'\n",
    "print(text.split(','))"
   ]
  },
  {
   "cell_type": "markdown",
   "metadata": {},
   "source": [
    "## The following text is given:\n",
    "\n",
    "### text = 'Google Colab'\n",
    "\n",
    "## Using the appropriate method convert all letters to uppercase. Print the result to the console.\n",
    "\n",
    "## Expected result:\n",
    "\n",
    "### GOOGLE COLAB"
   ]
  },
  {
   "cell_type": "code",
   "execution_count": 4,
   "metadata": {},
   "outputs": [
    {
     "name": "stdout",
     "output_type": "stream",
     "text": [
      "GOOGLE COLAB\n"
     ]
    }
   ],
   "source": [
    "text = 'Google Colab'\n",
    "print(text.upper())"
   ]
  },
  {
   "cell_type": "markdown",
   "metadata": {},
   "source": [
    "## The following variable is given:\n",
    "\n",
    "### num = 34\n",
    "\n",
    "## Using the appropriate method for an object of type str, print the variable num preceded by four zeros to the console as shown below.\n",
    "\n",
    "## Expected result:\n",
    "\n",
    "### 000034"
   ]
  },
  {
   "cell_type": "code",
   "execution_count": 5,
   "metadata": {},
   "outputs": [
    {
     "name": "stdout",
     "output_type": "stream",
     "text": [
      "000034\n"
     ]
    }
   ],
   "source": [
    "num = \"34\"\n",
    "print(num.zfill(6))"
   ]
  },
  {
   "cell_type": "markdown",
   "metadata": {},
   "source": [
    "## The following text is given:\n",
    "\n",
    "### text = '340-23-245-235'\n",
    "\n",
    "## Using the appropriate method remove all dashes from the text. Print the result to the console.\n",
    "\n",
    "## Expected result:\n",
    "\n",
    "### 34023245235\n",
    "\n",
    " "
   ]
  },
  {
   "cell_type": "code",
   "execution_count": 6,
   "metadata": {},
   "outputs": [
    {
     "name": "stdout",
     "output_type": "stream",
     "text": [
      "34023245235\n"
     ]
    }
   ],
   "source": [
    "text = \"340-23-245-235\"\n",
    "print(text.replace(\"-\",\"\"))"
   ]
  },
  {
   "cell_type": "markdown",
   "metadata": {},
   "source": [
    "\n",
    "## Question text\n",
    "## The following codes are given:\n",
    "\n",
    "### code1 = 'FVNISJND-XX-2020'\n",
    "\n",
    "### code2 = 'FVNISJND-XY-2019'\n",
    "\n",
    "## Using the appropriate method check if the codes end in '2020'. Print the result to the console as shown below.\n",
    "\n",
    "## Expected result:\n",
    "\n",
    "### code1: True\n",
    "\n",
    "### code2: False"
   ]
  },
  {
   "cell_type": "code",
   "execution_count": 7,
   "metadata": {},
   "outputs": [
    {
     "name": "stdout",
     "output_type": "stream",
     "text": [
      "code1: True\n",
      "code2: False\n"
     ]
    }
   ],
   "source": [
    "code1 = \"FVNISJND-XY-2020\"\n",
    "code2 = \"FVNISJND-XY-2019\"\n",
    "a = \"2020\" in code1\n",
    "b = \"2020\" in code2\n",
    "print(\"code1: {}\".format(a))\n",
    "print(\"code2: {}\".format(b))"
   ]
  },
  {
   "cell_type": "markdown",
   "metadata": {},
   "source": [
    "## From the given url:\n",
    "\n",
    "### url = 'https://e-smartdata.teachable.com/p/sciezka-data-scientist-machine-learning-engineer'extract the slug after the last character '/'. Then replace all dashes with spaces and print the result to the console as shown below.\n",
    "\n",
    "## Expected result:\n",
    "\n",
    "### sciezka data scientist machine learning engineer"
   ]
  },
  {
   "cell_type": "code",
   "execution_count": 8,
   "metadata": {},
   "outputs": [
    {
     "name": "stdout",
     "output_type": "stream",
     "text": [
      "sciezka data scientist machine learning engineer\n"
     ]
    }
   ],
   "source": [
    "url = 'https://e-smartdata.teachable.com/p/sciezka-data-scientist-machine-learning-engineer'\n",
    "a = url.rsplit('/',1)[-1]\n",
    "print(a.replace(\"-\",\" \"))"
   ]
  },
  {
   "cell_type": "markdown",
   "metadata": {},
   "source": [
    "## The following text is given:\n",
    "\n",
    "### text = \"\"\"Python is a general-purpose language.\n",
    "\n",
    "### Python is popular.\"\"\"\n",
    "\n",
    "## Using the appropriate method, split the text into sentences. Print the result as a list to the console.\n",
    "\n",
    "## Expected result:\n",
    "\n",
    "### ['Python is a url = 'https://e-smartdata.teachable.com/p/sciezka-data-scientist-machine-learning-engineer'\n"
   ]
  },
  {
   "cell_type": "code",
   "execution_count": 9,
   "metadata": {},
   "outputs": [
    {
     "name": "stdout",
     "output_type": "stream",
     "text": [
      "['Python is a general-purpose language.', 'Python is popular.']\n"
     ]
    }
   ],
   "source": [
    "text = \"\"\"Python is a general-purpose language.,Python is popular.\"\"\"\n",
    "result = list(filter(lambda x : x != '',text.split(\",\")))\n",
    "print(result)"
   ]
  },
  {
   "cell_type": "markdown",
   "metadata": {},
   "source": [
    "## The following text is given:\n",
    "\n",
    "### text = 'python is a popular programming language.'\n",
    "\n",
    "## Using the appropriate method count the number of occurrences of the letter 'p' and print the result to the console as shown below.\n",
    "\n",
    "## Expected result:\n",
    "\n",
    "### Number of occurrences: 4"
   ]
  },
  {
   "cell_type": "code",
   "execution_count": 10,
   "metadata": {},
   "outputs": [
    {
     "name": "stdout",
     "output_type": "stream",
     "text": [
      "Number of occurrences: 4\n"
     ]
    }
   ],
   "source": [
    "text = 'python is a popular programming language'\n",
    "print('Number of occurrences:',text.count('p'))"
   ]
  },
  {
   "cell_type": "markdown",
   "metadata": {},
   "source": [
    "## The following codes are given:\n",
    "\n",
    "###  code1 = 'FVNISJND-20'\n",
    "\n",
    "### code2 = 'FVNISJND20'\n",
    "\n",
    "## Using the appropriate method, check whether the codes consist only of alphanumeric characters (numbers + letters). Print the result to the console as shown below.\n",
    "\n",
    "## Expected result:\n",
    "\n",
    "### code1: False\n",
    "\n",
    "### code2: True"
   ]
  },
  {
   "cell_type": "code",
   "execution_count": 11,
   "metadata": {},
   "outputs": [
    {
     "name": "stdout",
     "output_type": "stream",
     "text": [
      "code1: False\n",
      "code2: True\n"
     ]
    }
   ],
   "source": [
    "code1 = \"FVNISJND-20\"\n",
    "code2 = \"FVNISJND20\"\n",
    "a = code1.isalnum()\n",
    "b = code2.isalnum()\n",
    "print(\"code1: {}\".format(a))\n",
    "print(\"code2: {}\".format(b))"
   ]
  },
  {
   "cell_type": "markdown",
   "metadata": {},
   "source": [
    "## The following paths are given:\n",
    "\n",
    "### path1 = 'https://e-smartdata.teachable.com/p/sciezka-data-scientist-machine-learning-engineer'\n",
    "\n",
    "### path2 = 'https://e-smartdata.teachable.com/p/sciezka-data-scientist-deep-learning-engineer'\n",
    "\n",
    "### path3 = 'https://e-smartdata.teachable.com/p/sciezka-bi-analyst-data-analyst'\n",
    "\n",
    "## Using the appropriate method, find the word 'scientist' in the given paths, returning the index for the first letter of the found word. If the word is not in the path, the method should return -1. Print the result to the console as shown below.\n",
    "\n",
    "## Expected result:\n",
    "\n",
    "### path1: 49\n",
    "\n",
    "### path2: 49\n",
    "\n",
    "### path3: -1"
   ]
  },
  {
   "cell_type": "code",
   "execution_count": 12,
   "metadata": {},
   "outputs": [
    {
     "name": "stdout",
     "output_type": "stream",
     "text": [
      "path1: 49\n",
      "path2: 49\n",
      "path3: -1\n"
     ]
    }
   ],
   "source": [
    "path1 = 'https://e-smartdata.teachable.com/p/sciezka-data-scientist-machine-learning-engineer'\n",
    "path2 = 'https://e-smartdata.teachable.com/p/sciezka-data-scientist-deep-learning-engineer'\n",
    "path3 = 'https://e-smartdata.teachable.com/p/sciezka-bi-analyst-data-analyst'\n",
    "a = path1.find(\"scientist\")\n",
    "b = path2.find(\"scientist\")\n",
    "c = path3.find(\"scientist\")\n",
    "print(\"path1: {}\".format(a))\n",
    "print(\"path2: {}\".format(b))\n",
    "print(\"path3: {}\".format(c))"
   ]
  },
  {
   "cell_type": "markdown",
   "metadata": {},
   "source": [
    "## The following text is given:\n",
    "\n",
    "### text = 'Google Colab'\n",
    "\n",
    "## Using the appropriate method convert all letters to lowercase. Print the result to the console.\n",
    "\n",
    "## Expected result:\n",
    "\n",
    "### google colab\n",
    "\n"
   ]
  },
  {
   "cell_type": "code",
   "execution_count": 13,
   "metadata": {},
   "outputs": [
    {
     "name": "stdout",
     "output_type": "stream",
     "text": [
      "google colab\n"
     ]
    }
   ],
   "source": [
    "text = \"Google Colab\"\n",
    "print(text.lower())"
   ]
  },
  {
   "cell_type": "markdown",
   "metadata": {},
   "source": [
    "## The following code is given:\n",
    "\n",
    "### code = 'FVNISJND-XX'\n",
    "\n",
    "## Using the appropriate method replace the dash with a space. Print the result to the console.\n",
    "\n",
    "## Expected result:\n",
    "\n",
    "### FVNISJND XX"
   ]
  },
  {
   "cell_type": "code",
   "execution_count": 14,
   "metadata": {},
   "outputs": [
    {
     "name": "stdout",
     "output_type": "stream",
     "text": [
      "FVNISJND XX\n"
     ]
    }
   ],
   "source": [
    "code = \"FVNISJND-XX\"\n",
    "print(code.replace(\"-\",\" \"))"
   ]
  },
  {
   "cell_type": "markdown",
   "metadata": {},
   "source": [
    "## The following text is given:\n",
    "\n",
    "### text = 'python is a popular programming language.'\n",
    "\n",
    "## Use the appropriate method to replace the first letter of the text with uppercase. Print the result to the console.\n",
    "\n",
    "## Expected result:\n",
    "\n",
    "### Python is a popular programming language."
   ]
  },
  {
   "cell_type": "code",
   "execution_count": 15,
   "metadata": {},
   "outputs": [
    {
     "name": "stdout",
     "output_type": "stream",
     "text": [
      "Python is a popular programming language.\n"
     ]
    }
   ],
   "source": [
    "text = \"python is a popular programming language.\"\n",
    "f = text.capitalize()\n",
    "print(f)"
   ]
  }
 ],
 "metadata": {
  "kernelspec": {
   "display_name": "Python 3.10.6 64-bit",
   "language": "python",
   "name": "python3"
  },
  "language_info": {
   "codemirror_mode": {
    "name": "ipython",
    "version": 3
   },
   "file_extension": ".py",
   "mimetype": "text/x-python",
   "name": "python",
   "nbconvert_exporter": "python",
   "pygments_lexer": "ipython3",
   "version": "3.10.6"
  },
  "orig_nbformat": 4,
  "vscode": {
   "interpreter": {
    "hash": "916dbcbb3f70747c44a77c7bcd40155683ae19c65e1c03b4aa3499c5328201f1"
   }
  }
 },
 "nbformat": 4,
 "nbformat_minor": 2
}
