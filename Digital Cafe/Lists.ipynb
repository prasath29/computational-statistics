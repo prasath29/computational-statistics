{
 "cells": [
  {
   "cell_type": "markdown",
   "metadata": {},
   "source": [
    "## The following text is given:\n",
    "\n",
    "### text = 'Python programming'\n",
    "\n",
    "## Standardize the text (replace uppercase letters with lowercase). Then create a list of unique characters in the text. Remove the space from this list and sort from a to z. After all print the list to the console.\n",
    "\n",
    "## Tip: You can use a set to generate unique characters.\n",
    "\n",
    "## Expected result:\n",
    "\n",
    "### ['a', 'g', 'h', 'i', 'm', 'n', 'o', 'p', 'r', 't', 'y']"
   ]
  },
  {
   "cell_type": "code",
   "execution_count": 1,
   "metadata": {},
   "outputs": [
    {
     "name": "stdout",
     "output_type": "stream",
     "text": [
      "['a', 'g', 'h', 'i', 'm', 'n', 'o', 'p', 'r', 't', 'y']\n"
     ]
    }
   ],
   "source": [
    "text = \"Python Programming\"\n",
    "a = text.lower()\n",
    "b = a.replace(\" \",'')\n",
    "list1 = list(b)\n",
    "result = \"\"\n",
    "for i in range(len(list1)):\n",
    "    if list1[i] not in result:\n",
    "        result = result + list1[i]\n",
    "list2 = list(result)\n",
    "print(sorted(list2))"
   ]
  },
  {
   "cell_type": "markdown",
   "metadata": {},
   "source": [
    "## To the given list:\n",
    "\n",
    "### cities = ['Los Angeles', 'New York', 'Chicago']\n",
    "\n",
    "#### append the city: 'Houston' and print the list to the console.\n",
    "\n",
    "## Expected result:\n",
    "\n",
    "### ['Los Angeles', 'New York', 'Chicago', 'Houston']"
   ]
  },
  {
   "cell_type": "code",
   "execution_count": 2,
   "metadata": {},
   "outputs": [
    {
     "name": "stdout",
     "output_type": "stream",
     "text": [
      "['Los Angeles', 'New York', 'Chicago', 'Houston']\n"
     ]
    }
   ],
   "source": [
    "cities = ['Los Angeles', 'New York', 'Chicago']\n",
    "cities.append('Houston')\n",
    "print(cities)\n"
   ]
  },
  {
   "cell_type": "markdown",
   "metadata": {},
   "source": [
    "## The following list is given:\n",
    "\n",
    "### hashtags = ['summer', 'time', 'vibes']\n",
    "\n",
    "## Using the appropriate method, combine the elements of the list with the '#' character. Also add this sign to the beginning of the text and print the result to the console as shown below.\n",
    "\n",
    "## Expected result:\n",
    "\n",
    "### #summer#time#vibes"
   ]
  },
  {
   "cell_type": "code",
   "execution_count": 3,
   "metadata": {},
   "outputs": [
    {
     "name": "stdout",
     "output_type": "stream",
     "text": [
      "#summer#time#vibes\n"
     ]
    }
   ],
   "source": [
    "hashtags = ['summer', 'time', 'vibes']\n",
    "a = \" \".join(hashtags)\n",
    "b = a.replace(\" \",'#')\n",
    "print(\"#\"+b)"
   ]
  },
  {
   "cell_type": "markdown",
   "metadata": {},
   "source": [
    "## The following list is given:\n",
    "\n",
    "### filenames = ['view.jpg', 'bear.jpg', 'ball.png']\n",
    "\n",
    "## Add the file 'phone.jpg' to this list at the beginning. Then delete the file 'ball.png'. In response, print the filenames list to the console.\n",
    "\n",
    "## Expected result:\n",
    "\n",
    "### ['phone.jpg', 'view.jpg', 'bear.jpg']"
   ]
  },
  {
   "cell_type": "code",
   "execution_count": 4,
   "metadata": {},
   "outputs": [
    {
     "name": "stdout",
     "output_type": "stream",
     "text": [
      "['phone.jpg', 'view.jpg', 'bear.jpg']\n"
     ]
    }
   ],
   "source": [
    "filenames = ['view.jpg', 'bear.jpg', 'ball.png']\n",
    "filenames.insert(0,'phone.jpg')\n",
    "filenames.remove('ball.png')\n",
    "print(filenames)"
   ]
  },
  {
   "cell_type": "markdown",
   "metadata": {},
   "source": [
    "## The following list represents order ids for a given day:\n",
    "\n",
    "### day1 = ['3984', '9042', '4829', '2380']\n",
    "\n",
    "### Using the appropriate method, extend this list to the next day:\n",
    "\n",
    "### day2 = ['4231', '5234', '1345', '2455']\n",
    "\n",
    "## Print the result to the console.\n",
    "\n",
    "## Expected result:\n",
    "\n",
    "### ['3984', '9042', '4829', '2380', '4231', '5234', '1345', '2455']"
   ]
  },
  {
   "cell_type": "code",
   "execution_count": 5,
   "metadata": {},
   "outputs": [
    {
     "name": "stdout",
     "output_type": "stream",
     "text": [
      "['3984', '9042', '4829', '2380', '4231', '5234', '1345', '2455']\n"
     ]
    }
   ],
   "source": [
    "day1 = ['3984', '9042', '4829', '2380']\n",
    "day2 = ['4231', '5234', '1345', '2455']\n",
    "result = day1+day2\n",
    "print(result)"
   ]
  },
  {
   "cell_type": "markdown",
   "metadata": {},
   "source": [
    "## The following list is given:\n",
    "\n",
    "### idx = ['001', '002', '001', '003', '001']\n",
    "\n",
    "## Using the appropriate method count the occurrences of '001'. Print the result to the console as shown below.\n",
    "\n",
    "## Expected result:\n",
    "\n",
    "### Number of occurrences: 3"
   ]
  },
  {
   "cell_type": "code",
   "execution_count": 6,
   "metadata": {},
   "outputs": [
    {
     "name": "stdout",
     "output_type": "stream",
     "text": [
      "Number of occurrences: 3\n"
     ]
    }
   ],
   "source": [
    "idx = ['001', '002', '001', '003', '001']\n",
    "a = idx.count('001')\n",
    "print(\"Number of occurrences: {}\".format(a))"
   ]
  }
 ],
 "metadata": {
  "kernelspec": {
   "display_name": "Python 3.10.6 64-bit",
   "language": "python",
   "name": "python3"
  },
  "language_info": {
   "codemirror_mode": {
    "name": "ipython",
    "version": 3
   },
   "file_extension": ".py",
   "mimetype": "text/x-python",
   "name": "python",
   "nbconvert_exporter": "python",
   "pygments_lexer": "ipython3",
   "version": "3.10.6"
  },
  "orig_nbformat": 4,
  "vscode": {
   "interpreter": {
    "hash": "916dbcbb3f70747c44a77c7bcd40155683ae19c65e1c03b4aa3499c5328201f1"
   }
  }
 },
 "nbformat": 4,
 "nbformat_minor": 2
}
