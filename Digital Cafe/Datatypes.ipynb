{
 "cells": [
  {
   "cell_type": "markdown",
   "metadata": {},
   "source": [
    "## The following variables are given (var1 - empty string, var2 - space, var3 - newline character):\n",
    "\n",
    "### var1 = ''\n",
    "\n",
    "### var2 = ' '\n",
    "\n",
    "### var3 = '\\n'\n",
    "\n",
    "## Print each type of variable on a separate line to the console as shown below.\n",
    "\n",
    "## Expected result:\n",
    "\n",
    "### <class 'str'>\n",
    "\n",
    "### <class 'str'>\n",
    "\n",
    "### <class 'str'>\n"
   ]
  },
  {
   "cell_type": "code",
   "execution_count": 1,
   "metadata": {},
   "outputs": [
    {
     "name": "stdout",
     "output_type": "stream",
     "text": [
      "<class 'str'>\n",
      "<class 'str'>\n",
      "<class 'str'>\n"
     ]
    }
   ],
   "source": [
    "var1 = ''\n",
    "var2 = \"\"\n",
    "var3 = \"\\n\"\n",
    "print(type(var1))\n",
    "print(type(var2))\n",
    "print(type(var3))"
   ]
  },
  {
   "cell_type": "markdown",
   "metadata": {},
   "source": [
    "## The following variables are given:\n",
    "\n",
    "### var1 = None\n",
    "\n",
    "### var2 = False\n",
    "\n",
    "### var3 = 'True'\n",
    "\n",
    "## Print each type of variable on a separate line to the console as shown below.\n",
    "\n",
    "## Expected result:\n",
    "\n",
    "### <class 'NoneType'>\n",
    "\n",
    "### <class 'bool'>\n",
    "\n",
    "### <class 'str'>"
   ]
  },
  {
   "cell_type": "code",
   "execution_count": 2,
   "metadata": {},
   "outputs": [
    {
     "name": "stdout",
     "output_type": "stream",
     "text": [
      "<class 'NoneType'>\n",
      "<class 'bool'>\n",
      "<class 'str'>\n"
     ]
    }
   ],
   "source": [
    "var1 = None\n",
    "var2 = False\n",
    "var3 = 'true'\n",
    "print(type(var1))\n",
    "print(type(var2))\n",
    "print(type(var3))"
   ]
  },
  {
   "cell_type": "markdown",
   "metadata": {},
   "source": [
    "## Check if the following variable:\n",
    "\n",
    "### flag = False\n",
    "\n",
    "## is an instance of the bool class and print the result to the console.\n",
    "\n",
    "## Expected result:\n",
    "\n",
    "### True"
   ]
  },
  {
   "cell_type": "code",
   "execution_count": 3,
   "metadata": {},
   "outputs": [
    {
     "name": "stdout",
     "output_type": "stream",
     "text": [
      "True\n"
     ]
    }
   ],
   "source": [
    "flag = False\n",
    "print(type(flag) == bool)"
   ]
  }
 ],
 "metadata": {
  "kernelspec": {
   "display_name": "Python 3.10.6 64-bit",
   "language": "python",
   "name": "python3"
  },
  "language_info": {
   "codemirror_mode": {
    "name": "ipython",
    "version": 3
   },
   "file_extension": ".py",
   "mimetype": "text/x-python",
   "name": "python",
   "nbconvert_exporter": "python",
   "pygments_lexer": "ipython3",
   "version": "3.10.6"
  },
  "orig_nbformat": 4,
  "vscode": {
   "interpreter": {
    "hash": "916dbcbb3f70747c44a77c7bcd40155683ae19c65e1c03b4aa3499c5328201f1"
   }
  }
 },
 "nbformat": 4,
 "nbformat_minor": 2
}
