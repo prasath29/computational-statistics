{
 "cells": [
  {
   "cell_type": "markdown",
   "metadata": {},
   "source": [
    "## Implement a function count_str(), which returns the number of str objects in an iterable object (list, tuple, set).\n",
    "\n",
    "## Example:\n",
    "\n",
    "### [IN]: count_str(['p', 2, 4.3, None])\n",
    "\n",
    "### [OUT]: 1\n",
    "\n",
    "### [IN]: count_str({'p', 2, 4.3, True, 'True', None})\n",
    "\n",
    "### [OUT]: 2\n",
    "\n",
    "## Note! You only need to define the function."
   ]
  },
  {
   "cell_type": "code",
   "execution_count": 6,
   "metadata": {},
   "outputs": [],
   "source": [
    "\n",
    "def count_str(lis):\n",
    "    co = 0\n",
    "    for ele in lis:\n",
    "        if type(ele)==str:\n",
    "            co  += 1         \n",
    "    return co"
   ]
  },
  {
   "cell_type": "markdown",
   "metadata": {},
   "source": [
    "## Implement a function count_str(), which returns the number of str objects with a length more than 2 characters from an iterable object (list, tuple, set).\n",
    "\n",
    "## Example:\n",
    "\n",
    "### [IN]: count_str([1, '#hello', '', 'python', 'go'])\n",
    "\n",
    "### [OUT]: 2\n",
    "\n",
    "### [IN]: count_str([1, 2, 3, 'python'])\n",
    "\n",
    "### [OUT]: 1\n",
    "\n",
    "### Note! You only need to define the function.\n",
    "\n"
   ]
  },
  {
   "cell_type": "code",
   "execution_count": 7,
   "metadata": {},
   "outputs": [],
   "source": [
    "def count_str(lis):\n",
    "    co = 0\n",
    "    for ele in lis:\n",
    "        if type(ele)==str and len(ele)>2:\n",
    "            co += 1\n",
    "            \n",
    "    return co"
   ]
  },
  {
   "cell_type": "markdown",
   "metadata": {},
   "source": [
    "## Implement a function map_longest() that accepts the list of words and return the length of the longest word in this list.\n",
    "\n",
    "## Example:\n",
    "\n",
    "### [IN]: map_longest(['python', 'sql'])\n",
    "\n",
    "### [OUT]: 6\n",
    "\n",
    "### [IN]: map_longest(['java', 'sql', 'r'])\n",
    "\n",
    "### [OUT]: 4\n",
    "\n",
    "### Note! You only need to define the function. "
   ]
  },
  {
   "cell_type": "code",
   "execution_count": 8,
   "metadata": {},
   "outputs": [],
   "source": [
    "def map_longest(lis):\n",
    "    return max([len(ele) for ele in lis])"
   ]
  },
  {
   "cell_type": "markdown",
   "metadata": {},
   "source": [
    "## Implement a function remove_duplicates() that removes duplicates from the list (the order of the items in the list does not have to be kept).\n",
    "\n",
    "## Example:\n",
    "\n",
    "### [IN]: remove_duplicates([1, 5, 3, 2, 2, 4, 2, 4])\n",
    "\n",
    "### [OUT]: [1, 2, 3, 4, 5]\n",
    "\n",
    "### [IN]: remove_duplicates([1, 1, 1, 1])\n",
    "\n",
    "### [OUT]: [1]\n",
    "\n",
    "### Note! You only need to define the function. \n",
    "\n"
   ]
  },
  {
   "cell_type": "code",
   "execution_count": 9,
   "metadata": {},
   "outputs": [],
   "source": [
    "def remove_duplicates(lis):\n",
    "    return list(set(lis))"
   ]
  },
  {
   "cell_type": "markdown",
   "metadata": {},
   "source": [
    "## Implement a function called factorial() that calculates the factorial for a given number.\n",
    "\n",
    "## Example:\n",
    "\n",
    "### [IN]: factorial(6)\n",
    "\n",
    "###   [OUT]: 720\n",
    "\n",
    "### [IN]: factorial(10)\n",
    "\n",
    "### [OUT]: 3628800\n",
    "\n",
    "#### Note! You only need to define the function."
   ]
  },
  {
   "cell_type": "code",
   "execution_count": 10,
   "metadata": {},
   "outputs": [],
   "source": [
    "def factorial(n):\n",
    "    if n==0:\n",
    "        return 1\n",
    "    else:\n",
    "        return n*factorial(n-1)"
   ]
  },
  {
   "cell_type": "markdown",
   "metadata": {},
   "source": [
    "### Implement a function is_distinct() to check if the list contains unique values.\n",
    "\n",
    "## Example:\n",
    "\n",
    "### [IN]: is_distinct([1, 2, 3])\n",
    "\n",
    "### [OUT]: True\n",
    "\n",
    "### [IN]: is_distinct([1, 2, 3, 3])\n",
    "\n",
    "### [OUT]: False\n",
    "\n",
    "\n",
    "### Note! You only need to define the function.\n",
    "\n"
   ]
  },
  {
   "cell_type": "code",
   "execution_count": 11,
   "metadata": {},
   "outputs": [],
   "source": [
    "def is_distinct(lis):\n",
    "    return len(set(lis))==len(lis)"
   ]
  },
  {
   "cell_type": "markdown",
   "metadata": {},
   "source": [
    "## Implement a function called multi(), which accepts an iterable object (list, tuple) as an argument and returns the product of all elements of this iterable object.\n",
    "\n",
    "## Example:\n",
    "\n",
    "### [IN]: multi((-4, 6, 2))\n",
    "\n",
    "### [OUT]: -48\n",
    "\n",
    "### [IN]: multi([4, 2, -5])\n",
    "\n",
    "### [OUT]: -40\n",
    "\n",
    "### Note! You only need to define the function."
   ]
  },
  {
   "cell_type": "code",
   "execution_count": 12,
   "metadata": {},
   "outputs": [],
   "source": [
    "def multi(lis):\n",
    "    so = 1\n",
    "    for ele in lis:\n",
    "        so *= ele\n",
    "        \n",
    "    return so"
   ]
  },
  {
   "cell_type": "markdown",
   "metadata": {},
   "source": [
    "## Implement a function called maximum() that returns the maximum of three numbers. Use conditional statement.\n",
    "\n",
    "## Example:\n",
    "\n",
    "### [IN]: maximum(4, 2, 1)\n",
    "\n",
    "### [OUT]: 4\n",
    "\n",
    "### [IN]: maximum(-3, 2, 5)\n",
    "\n",
    "### [OUT]: 5\n",
    "\n",
    "### Note! You only need to define the function.\n",
    "\n"
   ]
  },
  {
   "cell_type": "code",
   "execution_count": 13,
   "metadata": {},
   "outputs": [],
   "source": [
    "def maximum(*lis):\n",
    "    e = lis[0]\n",
    "    for i in range(1, len(lis)):\n",
    "        if lis[i]>e:\n",
    "            e = lis[i]\n",
    "            \n",
    "    return e"
   ]
  },
  {
   "cell_type": "markdown",
   "metadata": {},
   "source": [
    "## Implement a function called maximum() that returns the maximum of two numbers. Use conditional statement.\n",
    "\n",
    "## Example:\n",
    "\n",
    "### [IN]: maximum(4, 2)\n",
    "\n",
    "### [OUT]: 4\n",
    "\n",
    "### [IN]: maximum(-4, 2)\n",
    "\n",
    "### [OUT]: 2\n",
    "\n",
    "### Note! You only need to define the function."
   ]
  },
  {
   "cell_type": "code",
   "execution_count": 14,
   "metadata": {},
   "outputs": [],
   "source": [
    "def maximum(a, b):\n",
    "    if a>b:\n",
    "        return a\n",
    "    return b"
   ]
  },
  {
   "cell_type": "markdown",
   "metadata": {},
   "source": [
    "### Implement a function called filter_ge_6() that takes a list of words and returns list of words with the length greater than or equal to 6 characters.\n",
    "\n",
    "## Example:\n",
    "\n",
    "### [IN]: filter_ge_6(['programming', 'python', 'java', 'sql'])\n",
    "\n",
    "### [OUT]: ['programming', 'python'] \n",
    "\n",
    "### [IN]: filter_ge_6(['java', 'sql'])\n",
    "\n",
    "### [OUT]: []\n",
    "\n",
    "### Note! You only need to define the function. \n",
    "\n"
   ]
  },
  {
   "cell_type": "code",
   "execution_count": 15,
   "metadata": {},
   "outputs": [],
   "source": [
    "def filter_ge_6(lis):\n",
    "    return [ele for ele in lis if len(ele)>=6]"
   ]
  }
 ],
 "metadata": {
  "kernelspec": {
   "display_name": "Python 3.10.6 64-bit",
   "language": "python",
   "name": "python3"
  },
  "language_info": {
   "codemirror_mode": {
    "name": "ipython",
    "version": 3
   },
   "file_extension": ".py",
   "mimetype": "text/x-python",
   "name": "python",
   "nbconvert_exporter": "python",
   "pygments_lexer": "ipython3",
   "version": "3.10.6"
  },
  "orig_nbformat": 4,
  "vscode": {
   "interpreter": {
    "hash": "916dbcbb3f70747c44a77c7bcd40155683ae19c65e1c03b4aa3499c5328201f1"
   }
  }
 },
 "nbformat": 4,
 "nbformat_minor": 2
}
