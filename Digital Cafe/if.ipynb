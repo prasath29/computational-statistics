{
 "cells": [
  {
   "cell_type": "markdown",
   "metadata": {},
   "source": [
    "## Write a program that checks if the given item:\n",
    "\n",
    "### item = '001'\n",
    "\n",
    "### is in the list:\n",
    "\n",
    "### items = ['001', '000', '003', '005', '006']\n",
    "\n",
    "## If so, remove this item from the list and print this list to the console.\n",
    "\n",
    "## Expected result:\n",
    "\n",
    "#### ['000', '003', '005', '006']\n",
    "\n"
   ]
  },
  {
   "cell_type": "code",
   "execution_count": 1,
   "metadata": {},
   "outputs": [
    {
     "name": "stdout",
     "output_type": "stream",
     "text": [
      "['000', '003', '005', '006']\n"
     ]
    }
   ],
   "source": [
    "items = ['001','000','003','005','006']\n",
    "items.remove('001')\n",
    "print(items)"
   ]
  },
  {
   "cell_type": "markdown",
   "metadata": {},
   "source": [
    "## The following password is given:\n",
    "\n",
    "### password = 'cskdnjcasa#!'\n",
    "\n",
    "## Check if the password has at least 11 characters and contains the special character '!'. If so, print 'Password correct', otherwise 'Password incorrect'.\n",
    "\n",
    "## Expected result:\n",
    "\n",
    "### Password correct\n",
    "\n"
   ]
  },
  {
   "cell_type": "code",
   "execution_count": 2,
   "metadata": {},
   "outputs": [
    {
     "name": "stdout",
     "output_type": "stream",
     "text": [
      "Password correct\n"
     ]
    }
   ],
   "source": [
    "password = 'cskdnjcasa#!'\n",
    "import re\n",
    "check1 = re.compile('[@_!#$%^&*()<>?/\\|}{~:]')\n",
    "if(check1.search(password) == None and len(password) !=11):\n",
    "    print(\"Password incorrect\")\n",
    "else:\n",
    "    print(\"Password correct\")"
   ]
  },
  {
   "cell_type": "markdown",
   "metadata": {},
   "source": [
    "## The following password is given:\n",
    "\n",
    "### password = 'cskdnjcasa#!'\n",
    "\n",
    "## Check if the password has 12 characters. If so, print 'Password correct', otherwise 'Password too short'.\n",
    "\n",
    "## Expected result:\n",
    "\n",
    "#### Password correct"
   ]
  },
  {
   "cell_type": "code",
   "execution_count": 3,
   "metadata": {},
   "outputs": [
    {
     "name": "stdout",
     "output_type": "stream",
     "text": [
      "Password correct\n"
     ]
    }
   ],
   "source": [
    "password = 'cskdnjcasa#!'\n",
    "if(len(password)==12):\n",
    "    print(\"Password correct\")\n",
    "else:\n",
    "    print(\"Password incorrect\")"
   ]
  },
  {
   "cell_type": "markdown",
   "metadata": {},
   "source": [
    "## The following filename is given:\n",
    "\n",
    "### filename = '01012020_sales.xlsx'\n",
    "\n",
    "## Check if the file has the 'xlsx' extension. Print to the console 'YES' if true, 'NO' if false.\n",
    "\n",
    "### Expected result:\n",
    "\n",
    "### YES"
   ]
  },
  {
   "cell_type": "code",
   "execution_count": 4,
   "metadata": {},
   "outputs": [
    {
     "name": "stdout",
     "output_type": "stream",
     "text": [
      "YES\n"
     ]
    }
   ],
   "source": [
    "filename = \"01012020_sales.xlsx\"\n",
    "import pathlib\n",
    "filexten = pathlib.Path(filename).suffix\n",
    "if(filexten == \".xlsx\"):\n",
    "    print(\"YES\")\n",
    "else:\n",
    "    print(\"NO\")"
   ]
  },
  {
   "cell_type": "markdown",
   "metadata": {},
   "source": [
    "## The following variable is given:\n",
    "\n",
    "### number = 1.0\n",
    "\n",
    "## Test whether the variable is an instance of the built-in class int. Print 'YES' if true, 'NO' if false.\n",
    "\n",
    "##  Expected result:\n",
    "\n",
    "### NO"
   ]
  },
  {
   "cell_type": "code",
   "execution_count": 5,
   "metadata": {},
   "outputs": [
    {
     "name": "stdout",
     "output_type": "stream",
     "text": [
      "NO\n"
     ]
    }
   ],
   "source": [
    "number = 1.0\n",
    "if(isinstance(number,int)):\n",
    "    print(\"YES\")\n",
    "else:\n",
    "    print(\"NO\")"
   ]
  },
  {
   "cell_type": "markdown",
   "metadata": {},
   "source": [
    "## The following code is given:\n",
    "\n",
    "### code = 'DSVNDOICSN'\n",
    "\n",
    "### Check if the code variable has only uppercase letters. If so, print 'YES' to the console.\n",
    "\n",
    "## Expected result:\n",
    "\n",
    "### YES"
   ]
  },
  {
   "cell_type": "code",
   "execution_count": 6,
   "metadata": {},
   "outputs": [
    {
     "name": "stdout",
     "output_type": "stream",
     "text": [
      "YES\n"
     ]
    }
   ],
   "source": [
    "code = \"DSVNDOICSN\"\n",
    "if(code.isupper()):\n",
    "    print(\"YES\")\n",
    "else:\n",
    "    print(\"NO\")"
   ]
  },
  {
   "cell_type": "markdown",
   "metadata": {},
   "source": [
    "## The following list is given:\n",
    "\n",
    "### project_ids = ['02134', '24253']\n",
    "\n",
    "## Check if the following project id:\n",
    "\n",
    "### project_id = '02135'\n",
    "\n",
    "## #is in the project_ids list. If not, add this project_id to the list and print this list to the console.\n",
    "\n",
    "## Expected result:\n",
    "\n",
    "### ['02134', '24253', '02135']\n",
    "\n"
   ]
  },
  {
   "cell_type": "code",
   "execution_count": 7,
   "metadata": {},
   "outputs": [
    {
     "name": "stdout",
     "output_type": "stream",
     "text": [
      "['02134', '24253', '02135']\n"
     ]
    }
   ],
   "source": [
    "project_ids = ['02134','24253']\n",
    "project_id = '02135'\n",
    "if project_id not in project_ids:\n",
    "    project_ids.append(project_id)\n",
    "    print(project_ids)\n",
    "else:\n",
    "    print(project_ids)"
   ]
  }
 ],
 "metadata": {
  "kernelspec": {
   "display_name": "Python 3.10.6 64-bit",
   "language": "python",
   "name": "python3"
  },
  "language_info": {
   "codemirror_mode": {
    "name": "ipython",
    "version": 3
   },
   "file_extension": ".py",
   "mimetype": "text/x-python",
   "name": "python",
   "nbconvert_exporter": "python",
   "pygments_lexer": "ipython3",
   "version": "3.10.6"
  },
  "orig_nbformat": 4,
  "vscode": {
   "interpreter": {
    "hash": "916dbcbb3f70747c44a77c7bcd40155683ae19c65e1c03b4aa3499c5328201f1"
   }
  }
 },
 "nbformat": 4,
 "nbformat_minor": 2
}
