{
 "cells": [
  {
   "cell_type": "markdown",
   "metadata": {},
   "source": [
    "## Two customer ID sets are given. The first one tells you whether a person clicked on the banner ad. Second, whether the person purchased the product:\n",
    "\n",
    "### is_clicked = {'9001', '9003', '9005'}\n",
    "\n",
    "### is_bought = {'9002', '9004', '9005'}\n",
    "\n",
    "## Return the ID of those customers who clicked on the ad and bought the product.\n",
    "\n",
    "## Expected result:\n",
    "\n",
    "### Customer ID: { '9005'}\n",
    "\n"
   ]
  },
  {
   "cell_type": "code",
   "execution_count": 1,
   "metadata": {},
   "outputs": [
    {
     "name": "stdout",
     "output_type": "stream",
     "text": [
      "Customer ID: {'9005'}\n"
     ]
    }
   ],
   "source": [
    "import numpy as np\n",
    "is_clicked = {'9001','9003','9005'}\n",
    "is_bought = {'9002','9004','9005'}\n",
    "list1 = list(is_clicked)\n",
    "list2 = list(is_bought)\n",
    "common = np.intersect1d(list1,list2)\n",
    "set1 = set(common)\n",
    "print(\"Customer ID: {}\".format(set1))"
   ]
  },
  {
   "cell_type": "markdown",
   "metadata": {},
   "source": [
    "## The following text is given:\n",
    "\n",
    "### text = 'Programming in python.'\n",
    "\n",
    "## Follow the next steps:\n",
    "\n",
    "\n",
    "\n",
    "#### 1.    Change all letters to lowercase.\n",
    "\n",
    "#### 2.    Delete spaces and period.\n",
    "\n",
    "#### 3.    Create a set consisting of all letters in the text and assign to letters variable.\n",
    "\n",
    "### 4.    Using the appropriate method for sets, remove all vowels from letters set:\n",
    "\n",
    "#### vowels = {'a', 'e', 'i', 'o', 'u'}\n",
    "\n",
    "#### 5.    Print the number of items in the letters set as shown below.\n",
    "\n",
    "## Expected result:\n",
    "\n",
    "## Number of items: 8"
   ]
  },
  {
   "cell_type": "code",
   "execution_count": 2,
   "metadata": {},
   "outputs": [
    {
     "name": "stdout",
     "output_type": "stream",
     "text": [
      "Number of items: 8\n"
     ]
    }
   ],
   "source": [
    "text = \"Programming in Python\"\n",
    "a = text.lower()\n",
    "b = a.replace(\" \",\"\")\n",
    "string = set(b)\n",
    "list1 = list(string)\n",
    "vowels = ['a','e','i','o','u','A','E','I','O','U']\n",
    "result = \"\"\n",
    "for i in range(len(list1)):\n",
    "    if list1[i] not in vowels:\n",
    "        result += list1[i]\n",
    "print(\"Number of items:\",len(result))"
   ]
  }
 ],
 "metadata": {
  "kernelspec": {
   "display_name": "Python 3.10.6 64-bit",
   "language": "python",
   "name": "python3"
  },
  "language_info": {
   "codemirror_mode": {
    "name": "ipython",
    "version": 3
   },
   "file_extension": ".py",
   "mimetype": "text/x-python",
   "name": "python",
   "nbconvert_exporter": "python",
   "pygments_lexer": "ipython3",
   "version": "3.10.6"
  },
  "orig_nbformat": 4,
  "vscode": {
   "interpreter": {
    "hash": "916dbcbb3f70747c44a77c7bcd40155683ae19c65e1c03b4aa3499c5328201f1"
   }
  }
 },
 "nbformat": 4,
 "nbformat_minor": 2
}
