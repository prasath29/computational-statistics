{
 "cells": [
  {
   "cell_type": "markdown",
   "metadata": {},
   "source": [
    "## The following three one-dimensional arrays are given:\n",
    "\n",
    "### feature1 = np.array([1.6, 0.9, 2.2])\n",
    "\n",
    "### feature2 = np.array([0.4, 1.3, 3.2])\n",
    "\n",
    "### feature3 = np.array([1.4, 0.3, 1.2])\n",
    "\n",
    "## Transform each of these arrays into a column and concatenate them into one large array. Print result to the console.\n",
    "\n",
    "## Tip: Use the function np.column_stack().\n",
    "\n",
    "## Expected result:\n",
    "\n",
    "#### [[1.6 0.4 1.4]\n",
    "\n",
    "####  [0.9 1.3 0.3]\n",
    "\n",
    "####  [2.2 3.2 1.2]]\n",
    "\n"
   ]
  },
  {
   "cell_type": "code",
   "execution_count": 1,
   "metadata": {},
   "outputs": [
    {
     "name": "stdout",
     "output_type": "stream",
     "text": [
      "[[1.6 0.4 1.4]\n",
      " [0.9 1.3 0.3]\n",
      " [2.2 3.2 1.2]]\n"
     ]
    }
   ],
   "source": [
    "import numpy as np\n",
    "\n",
    "fea1 = np.array([1.6, 0.9, 2.2])\n",
    "fea2 = np.array([0.4, 1.3, 3.2])\n",
    "fea3 = np.array([1.4, 0.3, 1.2])\n",
    "\n",
    "print(np.column_stack((fea1, fea2, fea3)))"
   ]
  },
  {
   "cell_type": "markdown",
   "metadata": {},
   "source": [
    "### The following two arrays A and B are given:\n",
    "\n",
    "### A = np.array([[3, 4, 9, 2],              \n",
    "\n",
    "### [5, 3, 2, 5]])\n",
    "\n",
    "### B = np.array([[4, 3, 2, 5],              \n",
    "\n",
    "### [6, 3, 1, 6]])\n",
    "\n",
    "### Multiply arrays element-by-element (element-wise). Print result to the console.\n",
    "\n",
    "### xpected result:\n",
    "\n",
    "### [[12 12 18 10] \n",
    "\n",
    "### [30  9  2 30]]\n",
    "\n"
   ]
  },
  {
   "cell_type": "code",
   "execution_count": 2,
   "metadata": {},
   "outputs": [
    {
     "name": "stdout",
     "output_type": "stream",
     "text": [
      "[[12 12 18 10]\n",
      " [30  9  2 30]]\n"
     ]
    }
   ],
   "source": [
    "import numpy as np\n",
    "\n",
    "a = np.array([[3, 4, 9, 2], [5, 3, 2, 5]])\n",
    "b = np.array([[4, 3, 2, 5], [6, 3, 1, 6]])\n",
    "\n",
    "print(a*b)"
   ]
  },
  {
   "cell_type": "markdown",
   "metadata": {},
   "source": [
    "## Two arrays A and B are given below:\n",
    "\n",
    "### A = np.array([[3, 4, 5],              \n",
    "\n",
    "### [8, 3, 1]])\n",
    "\n",
    "### B = np.array([[0, 5, 2],              \n",
    "\n",
    "### [4, 2, 1]])\n",
    "\n",
    "## Concatenate these arrays as follows:\n",
    "\n",
    "### array([[3, 4, 5],       \n",
    "\n",
    "### [8, 3, 1],       \n",
    "\n",
    "### [0, 5, 2],       \n",
    "\n",
    "### [4, 2, 1]])\n",
    "\n",
    "###  Print result to the console.\n",
    "\n",
    "## Tip: Use the np.concatenate() function.\n",
    "\n",
    "## Expected result:\n",
    "\n",
    "### [[3 4 5] \n",
    "\n",
    "### [8 3 1] \n",
    "\n",
    "### [0 5 2] \n",
    "\n",
    "### [4 2 1]]"
   ]
  },
  {
   "cell_type": "code",
   "execution_count": 3,
   "metadata": {},
   "outputs": [
    {
     "name": "stdout",
     "output_type": "stream",
     "text": [
      "[[3 4 5]\n",
      " [8 3 1]\n",
      " [0 5 2]\n",
      " [4 2 1]]\n"
     ]
    }
   ],
   "source": [
    "import numpy as np\n",
    "\n",
    "a = np.array([[3, 4, 5], [8, 3, 1]])\n",
    "b = np.array([[0, 5, 2], [4, 2, 1]])\n",
    "\n",
    "print(np.concatenate((a, b)))"
   ]
  },
  {
   "cell_type": "markdown",
   "metadata": {},
   "source": [
    "## The following numpy array A is given:\n",
    "\n",
    "### A = np.array([[3, 4, 9, 2],              \n",
    "\n",
    "### [5, 3, 2, 5]])\n",
    "\n",
    "### Determine the root of each element of the array A. Print result to the console.\n",
    "\n",
    "### Tip: Use the np.sqrt() function.\n",
    "\n",
    "### Expected result:\n",
    "\n",
    "#### [[1.73205081 2.         3.         1.41421356] \n",
    "\n",
    "#### [2.23606798 1.73205081 1.41421356 2.23606798]]"
   ]
  },
  {
   "cell_type": "code",
   "execution_count": 4,
   "metadata": {},
   "outputs": [
    {
     "name": "stdout",
     "output_type": "stream",
     "text": [
      "[[1.73205081 2.         3.         1.41421356]\n",
      " [2.23606798 1.73205081 1.41421356 2.23606798]]\n"
     ]
    }
   ],
   "source": [
    "import numpy as np\n",
    "\n",
    "a = np.array([[3, 4, 9, 2], [5, 3, 2, 5]])\n",
    "\n",
    "print(np.sqrt(a))"
   ]
  },
  {
   "cell_type": "markdown",
   "metadata": {},
   "source": [
    "## The first array is given containing the data (data) and the second array containing the target class (target) for the given row:\n",
    "\n",
    "### data = np.array([[4.3, 4.2],                 \n",
    "\n",
    "### [3.1, 3.6]])\n",
    "\n",
    "### target = np.array([[0],                   \n",
    "\n",
    "### [1]])\n",
    "\n",
    "### Concatenate these arrays into one as shown below:\n",
    "\n",
    "### array([[4.3, 4.2, 0. ],       \n",
    "\n",
    "### [3.1, 3.6, 1. ]])\n",
    "\n",
    "### Print result to the console.\n",
    "\n",
    "### Expected result:\n",
    "\n",
    "#### [[4.3 4.2 0. ] \n",
    "\n",
    "#### [3.1 3.6 1. ]]\n",
    "\n"
   ]
  },
  {
   "cell_type": "code",
   "execution_count": 1,
   "metadata": {},
   "outputs": [
    {
     "name": "stdout",
     "output_type": "stream",
     "text": [
      "[[4.3 4.2 0. ]\n",
      " [3.1 3.6 1. ]]\n"
     ]
    }
   ],
   "source": [
    "import numpy as np\n",
    "\n",
    "a = np.array([[4.3, 4.2], [3.1, 3.6]])\n",
    "b = np.array([[0], [1]])\n",
    "\n",
    "print(np.concatenate((a, b), axis=1))"
   ]
  }
 ],
 "metadata": {
  "kernelspec": {
   "display_name": "Python 3.10.6 64-bit",
   "language": "python",
   "name": "python3"
  },
  "language_info": {
   "codemirror_mode": {
    "name": "ipython",
    "version": 3
   },
   "file_extension": ".py",
   "mimetype": "text/x-python",
   "name": "python",
   "nbconvert_exporter": "python",
   "pygments_lexer": "ipython3",
   "version": "3.10.6"
  },
  "orig_nbformat": 4,
  "vscode": {
   "interpreter": {
    "hash": "916dbcbb3f70747c44a77c7bcd40155683ae19c65e1c03b4aa3499c5328201f1"
   }
  }
 },
 "nbformat": 4,
 "nbformat_minor": 2
}
