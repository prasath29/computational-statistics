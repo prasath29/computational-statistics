{
 "cells": [
  {
   "cell_type": "markdown",
   "metadata": {},
   "source": [
    "## Write a program that compares two lists and returns True if the lists contain at least one of the same element. Otherwise, it will return False.\n",
    "\n",
    "### Use break statement in the solution and print result to the console.\n",
    "\n",
    "### Lists:\n",
    "\n",
    "### list1 = [1, 2, 0]\n",
    "\n",
    "### list2 = [4, 5, 6, 1]\n",
    "\n",
    "## Expected result:\n",
    "\n",
    "### True"
   ]
  },
  {
   "cell_type": "code",
   "execution_count": 1,
   "metadata": {},
   "outputs": [
    {
     "name": "stdout",
     "output_type": "stream",
     "text": [
      "True\n"
     ]
    }
   ],
   "source": [
    "list1 = [1,2,0]\n",
    "list2 = [4,5,6,1]\n",
    "result = False\n",
    "for ele in list1:\n",
    "    for ele2 in list2: \n",
    "        if ele == ele2:\n",
    "            result = True\n",
    "            break\n",
    "print(result)"
   ]
  },
  {
   "cell_type": "markdown",
   "metadata": {},
   "source": [
    "## The following list of hashtags is given:\n",
    "\n",
    "### hashtags = ['holiday', 'sport', 'fit', None, 'fashion']\n",
    "\n",
    "## Check if all objects in the list are of str type. If so, print True, otherwise print False. Use the break statement in your solution.\n",
    "\n",
    "## Expected result:\n",
    "\n",
    "### False"
   ]
  },
  {
   "cell_type": "code",
   "execution_count": 2,
   "metadata": {},
   "outputs": [
    {
     "name": "stdout",
     "output_type": "stream",
     "text": [
      "False\n"
     ]
    }
   ],
   "source": [
    "hashtags = ['holiday','sport','fit',None,'fashion']\n",
    "result = True\n",
    "for x in hashtags:\n",
    " if type(x)!=str:\n",
    "    result = False\n",
    "    break\n",
    "print(result)"
   ]
  },
  {
   "cell_type": "markdown",
   "metadata": {},
   "source": [
    "## Write a program that checks if the given number is a prime number (use the break statement):\n",
    "\n",
    "### number = 13\n",
    "\n",
    "## Print one of the following to the console depends on the result:\n",
    "\n",
    "### 13 - prime number\n",
    "\n",
    "### 13 - not a prime number\n",
    "\n",
    "## Expected result:\n",
    "\n",
    "### 13 - prime number"
   ]
  },
  {
   "cell_type": "code",
   "execution_count": 3,
   "metadata": {},
   "outputs": [
    {
     "name": "stdout",
     "output_type": "stream",
     "text": [
      "13 - prime number\n"
     ]
    }
   ],
   "source": [
    "num = 13\n",
    "if num > 1:\n",
    "\tfor i in range(2, int(num/2)+1):\n",
    "\t\tif (num % i) == 0:\n",
    "\t\t\tprint(num , \"- not a prime number\")\n",
    "\t\t\tbreak\n",
    "\telse:\n",
    "\t\tprint(num , \"- prime number\")\n",
    "else:\n",
    "\tprint(num , \"- not a prime number\")"
   ]
  }
 ],
 "metadata": {
  "kernelspec": {
   "display_name": "Python 3.10.6 64-bit",
   "language": "python",
   "name": "python3"
  },
  "language_info": {
   "codemirror_mode": {
    "name": "ipython",
    "version": 3
   },
   "file_extension": ".py",
   "mimetype": "text/x-python",
   "name": "python",
   "nbconvert_exporter": "python",
   "pygments_lexer": "ipython3",
   "version": "3.10.6"
  },
  "orig_nbformat": 4,
  "vscode": {
   "interpreter": {
    "hash": "916dbcbb3f70747c44a77c7bcd40155683ae19c65e1c03b4aa3499c5328201f1"
   }
  }
 },
 "nbformat": 4,
 "nbformat_minor": 2
}
