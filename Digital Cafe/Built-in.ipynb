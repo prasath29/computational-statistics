{
 "cells": [
  {
   "cell_type": "markdown",
   "metadata": {},
   "source": [
    "## Count the number of ones in the binary representation of number:\n",
    "\n",
    "### number = 234\n",
    "\n",
    "## Print the result to the console.\n",
    "\n",
    "## Tip: Use the bin() built-in function.\n",
    "\n",
    "### Expected result:\n",
    "\n",
    "#### 5"
   ]
  },
  {
   "cell_type": "code",
   "execution_count": 1,
   "metadata": {},
   "outputs": [
    {
     "name": "stdout",
     "output_type": "stream",
     "text": [
      "5\n"
     ]
    }
   ],
   "source": [
    "number=234\n",
    "print(bin(number).count(\"1\"))"
   ]
  },
  {
   "cell_type": "markdown",
   "metadata": {},
   "source": [
    "## The following variables are given:\n",
    "\n",
    "### var1 = 'Python'\n",
    "\n",
    "### var2 = ('Python')\n",
    "\n",
    "### var3 = ('Python',)\n",
    "\n",
    "### var4 = ['Python']\n",
    "\n",
    "### var5 = {'Python'}\n",
    "\n",
    "### Using the appropriate function, check if the variables are instances of tuple class. Print the result to the console as shown below.\n",
    "\n",
    "## Tip: Use the isinstance() built-in function.\n",
    "\n",
    "## Expected result:\n",
    "\n",
    "### False\n",
    "\n",
    "### False\n",
    "\n",
    "### True\n",
    "\n",
    "### False\n",
    "\n",
    "### False"
   ]
  },
  {
   "cell_type": "code",
   "execution_count": 2,
   "metadata": {},
   "outputs": [
    {
     "name": "stdout",
     "output_type": "stream",
     "text": [
      "False\n",
      "False\n",
      "True\n",
      "False\n",
      "False\n"
     ]
    }
   ],
   "source": [
    "var1='Python'\n",
    "var2=('Python')\n",
    "var3=('Python',)\n",
    "var4=['python']\n",
    "var5={'Python'}\n",
    "print(isinstance(var1,tuple))\n",
    "print(isinstance(var2,tuple))\n",
    "print(isinstance(var3,tuple))\n",
    "print(isinstance(var4,tuple))\n",
    "print(isinstance(var5,tuple))"
   ]
  },
  {
   "cell_type": "markdown",
   "metadata": {},
   "source": [
    "## The variable x:\n",
    "\n",
    "### x = -1.5\n",
    "\n",
    "## and the following expression are given:\n",
    "\n",
    "### expression = 'x**2 + x'\n",
    "\n",
    "## Using the appropriate function, calculate the value of this expression and print the result to the console.\n",
    "\n",
    "## Tip: Use the eval() function.\n",
    "\n",
    "## Expected result:\n",
    "\n",
    "### 0.75"
   ]
  },
  {
   "cell_type": "code",
   "execution_count": 3,
   "metadata": {},
   "outputs": [
    {
     "name": "stdout",
     "output_type": "stream",
     "text": [
      "0.75\n"
     ]
    }
   ],
   "source": [
    "x=-1.5\n",
    "expression='x**2+x'\n",
    "print(eval(expression))"
   ]
  },
  {
   "cell_type": "markdown",
   "metadata": {},
   "source": [
    "## Using the appropriate built-in function, verify if all elements of the following tuple return the logical value True:\n",
    "\n",
    "### items = (' ', '0', 0.1, True)\n",
    "\n",
    "## Print the result to the console.\n",
    "\n",
    "## Expected result:\n",
    "\n",
    "### True"
   ]
  },
  {
   "cell_type": "code",
   "execution_count": 1,
   "metadata": {},
   "outputs": [
    {
     "name": "stdout",
     "output_type": "stream",
     "text": [
      "True\n"
     ]
    }
   ],
   "source": [
    "items=('','0',0.1,True)\n",
    "print(isinstance(items,tuple))"
   ]
  },
  {
   "cell_type": "markdown",
   "metadata": {},
   "source": [
    "## Using the appropriate built-in function, verify if any element of the following tuple returns the boolean value True:\n",
    "\n",
    "### items = ('', 0.0, 0, False)\n",
    "\n",
    "## Print the result to the console.\n",
    "\n",
    "## Expected result:\n",
    "\n",
    "### False"
   ]
  },
  {
   "cell_type": "code",
   "execution_count": 2,
   "metadata": {},
   "outputs": [
    {
     "name": "stdout",
     "output_type": "stream",
     "text": [
      "False\n"
     ]
    }
   ],
   "source": [
    "items=('',0.0,0,False)\n",
    "print(isinstance(items,bool))"
   ]
  },
  {
   "cell_type": "markdown",
   "metadata": {},
   "source": [
    "## The following list is given:\n",
    "\n",
    "### characters = ['k', 'b', 'c', 'j', 'z', 'w']\n",
    "\n",
    "## Using the built-in functions, return the first and the last letter in alphabetical order from this list and print the result to the console as shown below.\n",
    "\n",
    "## Tip: Use the min() and max() functions.\n",
    "\n",
    "## Expected result:\n",
    "\n",
    "### First: b\n",
    "\n",
    "### Last: z"
   ]
  },
  {
   "cell_type": "code",
   "execution_count": 3,
   "metadata": {},
   "outputs": [
    {
     "name": "stdout",
     "output_type": "stream",
     "text": [
      "First: b\n",
      "Last: z\n"
     ]
    }
   ],
   "source": [
    "characters=['k','b','c','j','z','w']\n",
    "print('First: {}'.format(min(characters)))\n",
    "print('Last: {}'.format(max(characters)))"
   ]
  }
 ],
 "metadata": {
  "kernelspec": {
   "display_name": "Python 3.10.6 64-bit",
   "language": "python",
   "name": "python3"
  },
  "language_info": {
   "codemirror_mode": {
    "name": "ipython",
    "version": 3
   },
   "file_extension": ".py",
   "mimetype": "text/x-python",
   "name": "python",
   "nbconvert_exporter": "python",
   "pygments_lexer": "ipython3",
   "version": "3.10.6"
  },
  "orig_nbformat": 4,
  "vscode": {
   "interpreter": {
    "hash": "916dbcbb3f70747c44a77c7bcd40155683ae19c65e1c03b4aa3499c5328201f1"
   }
  }
 },
 "nbformat": 4,
 "nbformat_minor": 2
}
