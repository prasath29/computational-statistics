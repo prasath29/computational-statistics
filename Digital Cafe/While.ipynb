{
 "cells": [
  {
   "cell_type": "markdown",
   "metadata": {},
   "source": [
    "## Write a program that prints to the console the first ten prime numbers separated by a comma.\n",
    "\n",
    "## Tip: Use a while loop with break statement.\n",
    "\n",
    "## Expected result:\n",
    "\n",
    "### 2,3,5,7,11,13,17,19,23,29"
   ]
  },
  {
   "cell_type": "code",
   "execution_count": 1,
   "metadata": {},
   "outputs": [
    {
     "name": "stdout",
     "output_type": "stream",
     "text": [
      "2,3,5,7,11,13,17,19,23,29\n"
     ]
    }
   ],
   "source": [
    "num = []\n",
    "def isprime(n):\n",
    "    for i in range(2, n//2+1):\n",
    "        if n%i==0:\n",
    "            return False\n",
    "    return True\n",
    "i=2\n",
    "while len(num)<10:\n",
    "    if isprime(i):\n",
    "        num.append(str(i))\n",
    "    i += 1\n",
    "\n",
    "print(','.join(num))"
   ]
  },
  {
   "cell_type": "markdown",
   "metadata": {},
   "source": [
    "## Using the while loop, calculate how many years you have to wait for the return on the investment described below to at least double your money (we only take into account full periods).\n",
    "\n",
    "## Description:\n",
    "\n",
    "### n - number of periods (in years)\n",
    "\n",
    "### pv - present value\n",
    "\n",
    "### r - interest rate (annual)\n",
    "\n",
    "### fv - future value\n",
    "\n",
    "### Investment parameters:\n",
    "\n",
    "### pv = 1000\n",
    "\n",
    "### r = 0.04\n",
    "\n",
    "## Print result to the console as shown below.\n",
    "\n",
    "## Expected result:\n",
    "\n",
    "### Future value: 2025.82 USD. Number of periods: 18 years\n",
    "\n"
   ]
  },
  {
   "cell_type": "code",
   "execution_count": 2,
   "metadata": {},
   "outputs": [
    {
     "name": "stdout",
     "output_type": "stream",
     "text": [
      "Future value: 2025.82 USD. Number of periods: 18 years\n"
     ]
    }
   ],
   "source": [
    "pv = 1000\n",
    "r = 0.04\n",
    "now = pv\n",
    "co = 0\n",
    "while now<=2*pv:\n",
    "    now += now*r\n",
    "    co += 1\n",
    "\n",
    "print('Future value: {} USD. Number of periods: {} years'.format(round(now, 2), co))"
   ]
  }
 ],
 "metadata": {
  "kernelspec": {
   "display_name": "Python 3.10.6 64-bit",
   "language": "python",
   "name": "python3"
  },
  "language_info": {
   "codemirror_mode": {
    "name": "ipython",
    "version": 3
   },
   "file_extension": ".py",
   "mimetype": "text/x-python",
   "name": "python",
   "nbconvert_exporter": "python",
   "pygments_lexer": "ipython3",
   "version": "3.10.6"
  },
  "orig_nbformat": 4,
  "vscode": {
   "interpreter": {
    "hash": "916dbcbb3f70747c44a77c7bcd40155683ae19c65e1c03b4aa3499c5328201f1"
   }
  }
 },
 "nbformat": 4,
 "nbformat_minor": 2
}
