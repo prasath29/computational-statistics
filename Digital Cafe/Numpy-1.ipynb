{
 "cells": [
  {
   "cell_type": "markdown",
   "metadata": {},
   "source": [
    "## Build the two-dimensional 6x6 size array below:\n",
    "\n",
    "### [[0 0 0 0 0 0]\n",
    "\n",
    "###  [0 1 0 0 0 0]\n",
    "\n",
    "### [0 0 2 0 0 0]\n",
    "\n",
    "### [0 0 0 3 0 0]\n",
    "\n",
    "###  [0 0 0 0 4 0]\n",
    "\n",
    "###  [0 0 0 0 0 5]]\n",
    "\n",
    "### Tip: Use the np.diag() function.\n",
    "\n"
   ]
  },
  {
   "cell_type": "code",
   "execution_count": 1,
   "metadata": {},
   "outputs": [
    {
     "name": "stdout",
     "output_type": "stream",
     "text": [
      "[[0 0 0 0 0 0]\n",
      " [0 1 0 0 0 0]\n",
      " [0 0 2 0 0 0]\n",
      " [0 0 0 3 0 0]\n",
      " [0 0 0 0 4 0]\n",
      " [0 0 0 0 0 5]]\n"
     ]
    }
   ],
   "source": [
    "import numpy as np\n",
    "a = np.diag([i for i in range(6)])\n",
    "print(a)"
   ]
  },
  {
   "cell_type": "markdown",
   "metadata": {},
   "source": [
    "## Build a 6x6 two-dimensional array - identity matrix. Use the int data type. Print result to the console.\n",
    "\n",
    "## Tip: Use the np.eye() function.\n",
    "\n",
    "## Expected result:\n",
    "\n",
    "### [[1 0 0 0 0 0]\n",
    "\n",
    "###  [0 1 0 0 0 0]\n",
    "\n",
    "###  [0 0 1 0 0 0]\n",
    "\n",
    "###  [0 0 0 1 0 0]\n",
    "\n",
    "###  [0 0 0 0 1 0]\n",
    "\n",
    "###  [0 0 0 0 0 1]]\n",
    "\n"
   ]
  },
  {
   "cell_type": "code",
   "execution_count": 2,
   "metadata": {},
   "outputs": [
    {
     "name": "stdout",
     "output_type": "stream",
     "text": [
      "[[1 0 0 0 0 0]\n",
      " [0 1 0 0 0 0]\n",
      " [0 0 1 0 0 0]\n",
      " [0 0 0 1 0 0]\n",
      " [0 0 0 0 1 0]\n",
      " [0 0 0 0 0 1]]\n"
     ]
    }
   ],
   "source": [
    "import numpy as np\n",
    "print(np.eye(6, dtype='int32'))"
   ]
  },
  {
   "cell_type": "markdown",
   "metadata": {},
   "source": [
    "## Set the random seed to 20. Then build a two-dimensional array with the shape (10, 4) pseudo-random values generated from the standard normal distribution N(0,1).\n",
    "\n",
    "## Tip: Use the function np.random.randn().\n",
    "\n",
    "## Expected result:\n",
    "\n",
    "#### [[ 0.88389311  0.19586502  0.35753652 -2.34326191]\n",
    "\n",
    "####  [-1.08483259  0.55969629  0.93946935 -0.97848104]\n",
    "\n",
    "####  [ 0.50309684  0.40641447  0.32346101 -0.49341088]\n",
    "\n",
    "#### [-0.79201679 -0.84236793 -1.27950266  0.24571517]\n",
    "\n",
    "####  [-0.0441948   1.56763255  1.05110868  0.40636843]\n",
    "\n",
    "####  [-0.1686461  -3.18970279  1.12013226  1.33277821]\n",
    "\n",
    "#### [-0.24333877 -0.13003071 -0.10901737  1.55618644]\n",
    "\n",
    "####  [ 0.12877835 -2.06694872 -0.88549315 -1.10457948]\n",
    "\n",
    "####  [ 0.93286635  2.059838   -0.93493796 -1.61299022]\n",
    "\n",
    "####  [ 0.52706972 -1.55110074  0.32961334 -1.13652654]]\n",
    "\n"
   ]
  },
  {
   "cell_type": "code",
   "execution_count": 3,
   "metadata": {},
   "outputs": [
    {
     "name": "stdout",
     "output_type": "stream",
     "text": [
      "[[ 0.88389311  0.19586502  0.35753652 -2.34326191]\n",
      " [-1.08483259  0.55969629  0.93946935 -0.97848104]\n",
      " [ 0.50309684  0.40641447  0.32346101 -0.49341088]\n",
      " [-0.79201679 -0.84236793 -1.27950266  0.24571517]\n",
      " [-0.0441948   1.56763255  1.05110868  0.40636843]\n",
      " [-0.1686461  -3.18970279  1.12013226  1.33277821]\n",
      " [-0.24333877 -0.13003071 -0.10901737  1.55618644]\n",
      " [ 0.12877835 -2.06694872 -0.88549315 -1.10457948]\n",
      " [ 0.93286635  2.059838   -0.93493796 -1.61299022]\n",
      " [ 0.52706972 -1.55110074  0.32961334 -1.13652654]]\n"
     ]
    }
   ],
   "source": [
    "import numpy as np\n",
    "np.random.seed(20)\n",
    "print(np.random.randn(10, 4))"
   ]
  },
  {
   "cell_type": "markdown",
   "metadata": {},
   "source": [
    "## Create an array of numpy dimensions 10x10 filled with number 255. Set the data type to float.\n",
    "\n",
    "## Tip: Use the np.ones() or np.full() functions.\n",
    "\n",
    "## Expected result:\n",
    "\n",
    "#### [[ 255.  255.  255.  255.  255.  255.  255.  255.  255.  255.]\n",
    "\n",
    "#### [ 255.  255.  255.  255.  255.  255.  255.  255.  255.  255.]\n",
    "\n",
    "#### [ 255.  255.  255.  255.  255.  255.  255.  255.  255.  255.]\n",
    "\n",
    "#### [ 255.  255.  255.  255.  255.  255.  255.  255.  255.  255.]\n",
    "\n",
    "#### [ 255.  255.  255.  255.  255.  255.  255.  255.  255.  255.]\n",
    "\n",
    "#### [ 255.  255.  255.  255.  255.  255.  255.  255.  255.  255.]\n",
    "\n",
    "#### [ 255.  255.  255.  255.  255.  255.  255.  255.  255.  255.]\n",
    "\n",
    "#### [ 255.  255.  255.  255.  255.  255.  255.  255.  255.  255.]\n",
    "\n",
    "#### [ 255.  255.  255.  255.  255.  255.  255.  255.  255.  255.]\n",
    "\n",
    "#### [ 255.  255.  255.  255.  255.  255.  255.  255.  255.  255.]]"
   ]
  },
  {
   "cell_type": "code",
   "execution_count": 4,
   "metadata": {},
   "outputs": [
    {
     "name": "stdout",
     "output_type": "stream",
     "text": [
      "[[255. 255. 255. 255. 255. 255. 255. 255. 255. 255.]\n",
      " [255. 255. 255. 255. 255. 255. 255. 255. 255. 255.]\n",
      " [255. 255. 255. 255. 255. 255. 255. 255. 255. 255.]\n",
      " [255. 255. 255. 255. 255. 255. 255. 255. 255. 255.]\n",
      " [255. 255. 255. 255. 255. 255. 255. 255. 255. 255.]\n",
      " [255. 255. 255. 255. 255. 255. 255. 255. 255. 255.]\n",
      " [255. 255. 255. 255. 255. 255. 255. 255. 255. 255.]\n",
      " [255. 255. 255. 255. 255. 255. 255. 255. 255. 255.]\n",
      " [255. 255. 255. 255. 255. 255. 255. 255. 255. 255.]\n",
      " [255. 255. 255. 255. 255. 255. 255. 255. 255. 255.]]\n"
     ]
    }
   ],
   "source": [
    "import numpy as np\n",
    "a = np.zeros((10, 10))\n",
    "a[:,:] = 255\n",
    "print(a)\n"
   ]
  },
  {
   "cell_type": "markdown",
   "metadata": {},
   "source": [
    "## Build a one-dimensional numpy array of two-digit numbers. Print result to the console.\n",
    "\n",
    "##  Tip: Use the np.arange() function.\n",
    "\n",
    "## Expected result:\n",
    "\n",
    "\n",
    "#### [10 11 12 13 14 15 16 17 18 19 20 21 22 23 24 25 26 27 28 29 30 31 32 33 34\n",
    "####  35 36 37 38 39 40 41 42 43 44 45 46 47 48 49 50 51 52 53 54 55 56 57 58 59\n",
    "####  60 61 62 63 64 65 66 67 68 69 70 71 72 73 74 75 76 77 78 79 80 81 82 83 84\n",
    "####  85 86 87 88 89 90 91 92 93 94 95 96 97 98 99]"
   ]
  },
  {
   "cell_type": "code",
   "execution_count": 5,
   "metadata": {},
   "outputs": [
    {
     "name": "stdout",
     "output_type": "stream",
     "text": [
      "[10 11 12 13 14 15 16 17 18 19 20 21 22 23 24 25 26 27 28 29 30 31 32 33\n",
      " 34 35 36 37 38 39 40 41 42 43 44 45 46 47 48 49 50 51 52 53 54 55 56 57\n",
      " 58 59 60 61 62 63 64 65 66 67 68 69 70 71 72 73 74 75 76 77 78 79 80 81\n",
      " 82 83 84 85 86 87 88 89 90 91 92 93 94 95 96 97 98 99]\n"
     ]
    }
   ],
   "source": [
    "import numpy as np\n",
    "print(np.arange(10, 100))"
   ]
  },
  {
   "cell_type": "markdown",
   "metadata": {},
   "source": [
    "## Create an array of numpy dimensions 4x4 filled with zeros. Set the data type to int. Print result to the console.\n",
    "\n",
    "## Tip: Use the np.zeros() function.\n",
    "\n",
    "## Expected result:\n",
    "\n",
    "#### [[0 0 0 0]\n",
    "\n",
    "####  [0 0 0 0]\n",
    "\n",
    "####  [0 0 0 0]\n",
    "\n",
    "####  [0 0 0 0]]\n",
    "\n"
   ]
  },
  {
   "cell_type": "code",
   "execution_count": 6,
   "metadata": {},
   "outputs": [
    {
     "name": "stdout",
     "output_type": "stream",
     "text": [
      "[[0 0 0 0]\n",
      " [0 0 0 0]\n",
      " [0 0 0 0]\n",
      " [0 0 0 0]]\n"
     ]
    }
   ],
   "source": [
    "import numpy as np\n",
    "print(np.zeros((4, 4), dtype='int32'))"
   ]
  },
  {
   "cell_type": "markdown",
   "metadata": {},
   "source": [
    "##  Set the random seed to 10. Then build a one-dimensional array consisting of 30 pseudo-randomly generated values from the uniform distribution [0,1) interval. Print result to the console.\n",
    "\n",
    "## Tip: Use the function np.random.rand().\n",
    "\n",
    "## Expected result:\n",
    "\n",
    "#### [ 0.77132064  0.02075195  0.63364823  0.74880388  0.49850701  0.22479665\n",
    "\n",
    "####  0.19806286  0.76053071  0.16911084  0.08833981  0.68535982  0.95339335\n",
    "\n",
    "####  0.00394827  0.51219226  0.81262096  0.61252607  0.72175532  0.29187607\n",
    "\n",
    "####  0.91777412  0.71457578  0.54254437  0.14217005  0.37334076  0.67413362\n",
    "\n",
    "####  0.44183317  0.43401399  0.61776698  0.51313824  0.65039718  0.60103895]"
   ]
  },
  {
   "cell_type": "code",
   "execution_count": 7,
   "metadata": {},
   "outputs": [
    {
     "name": "stdout",
     "output_type": "stream",
     "text": [
      "[0.77132064 0.02075195 0.63364823 0.74880388 0.49850701 0.22479665\n",
      " 0.19806286 0.76053071 0.16911084 0.08833981 0.68535982 0.95339335\n",
      " 0.00394827 0.51219226 0.81262096 0.61252607 0.72175532 0.29187607\n",
      " 0.91777412 0.71457578 0.54254437 0.14217005 0.37334076 0.67413362\n",
      " 0.44183317 0.43401399 0.61776698 0.51313824 0.65039718 0.60103895]\n"
     ]
    }
   ],
   "source": [
    "import numpy as np\n",
    "np.random.seed(10)\n",
    "print(np.random.rand(30))"
   ]
  },
  {
   "cell_type": "markdown",
   "metadata": {},
   "source": [
    "## Build the numpy array specified below:\n",
    "\n",
    "#### [[10 11 12 13 14 15 16 17 18 19]\n",
    "\n",
    "#### [20 21 22 23 24 25 26 27 28 29]\n",
    "\n",
    "#### [30 31 32 33 34 35 36 37 38 39]\n",
    "\n",
    "#### [40 41 42 43 44 45 46 47 48 49]\n",
    "\n",
    "####  [50 51 52 53 54 55 56 57 58 59]\n",
    "\n",
    "####  [60 61 62 63 64 65 66 67 68 69]\n",
    "\n",
    "####  [70 71 72 73 74 75 76 77 78 79]\n",
    "\n",
    "#### [80 81 82 83 84 85 86 87 88 89]\n",
    "\n",
    "####  [90 91 92 93 94 95 96 97 98 99]]\n",
    "\n",
    "## Note that the shape of the array is (9, 10). Print result to the console.\n",
    "\n",
    "### Tip: Use the np.arange() function and the np.ndarray.reshape() method."
   ]
  },
  {
   "cell_type": "code",
   "execution_count": 8,
   "metadata": {},
   "outputs": [
    {
     "name": "stdout",
     "output_type": "stream",
     "text": [
      "[[10 11 12 13 14 15 16 17 18 19]\n",
      " [20 21 22 23 24 25 26 27 28 29]\n",
      " [30 31 32 33 34 35 36 37 38 39]\n",
      " [40 41 42 43 44 45 46 47 48 49]\n",
      " [50 51 52 53 54 55 56 57 58 59]\n",
      " [60 61 62 63 64 65 66 67 68 69]\n",
      " [70 71 72 73 74 75 76 77 78 79]\n",
      " [80 81 82 83 84 85 86 87 88 89]\n",
      " [90 91 92 93 94 95 96 97 98 99]]\n"
     ]
    }
   ],
   "source": [
    "import numpy as np\n",
    "\n",
    "a = np.arange(10, 100)\n",
    "print(np.reshape(a, (9, 10)))\n"
   ]
  }
 ],
 "metadata": {
  "kernelspec": {
   "display_name": "Python 3.10.6 64-bit",
   "language": "python",
   "name": "python3"
  },
  "language_info": {
   "codemirror_mode": {
    "name": "ipython",
    "version": 3
   },
   "file_extension": ".py",
   "mimetype": "text/x-python",
   "name": "python",
   "nbconvert_exporter": "python",
   "pygments_lexer": "ipython3",
   "version": "3.10.6"
  },
  "orig_nbformat": 4,
  "vscode": {
   "interpreter": {
    "hash": "916dbcbb3f70747c44a77c7bcd40155683ae19c65e1c03b4aa3499c5328201f1"
   }
  }
 },
 "nbformat": 4,
 "nbformat_minor": 2
}
