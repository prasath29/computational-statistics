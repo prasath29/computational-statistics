{
 "cells": [
  {
   "cell_type": "markdown",
   "metadata": {},
   "source": [
    "## From the following text:\n",
    "\n",
    "### string = '1 0 0 1 0 1'\n",
    "\n",
    "## remove spaces using slicing. Then convert the result to decimal notation and print to the console as shown below.\n",
    "\n",
    "### Number found: 37\n",
    "\n"
   ]
  },
  {
   "cell_type": "code",
   "execution_count": 1,
   "metadata": {},
   "outputs": [
    {
     "name": "stdout",
     "output_type": "stream",
     "text": [
      "Number found: 37\n"
     ]
    }
   ],
   "source": [
    "text = \"1 0 0 1 0 1\"\n",
    "import re\n",
    "pattern = r\"\\s+\"\n",
    "text1 = re.sub(pattern,\"\",text)\n",
    "denum = int(text1,2)\n",
    "print(\"Number found: {}\".format(denum))"
   ]
  },
  {
   "cell_type": "markdown",
   "metadata": {},
   "source": [
    "## Using the slicing, reverse the order of the characters in the following text:\n",
    "\n",
    "### text = 'Python Course'\n",
    "\n",
    "# Print the result to the console as shown below.\n",
    "\n",
    "## Expected result:\n",
    "\n",
    "### esruoC nohtyP"
   ]
  },
  {
   "cell_type": "code",
   "execution_count": 2,
   "metadata": {},
   "outputs": [
    {
     "name": "stdout",
     "output_type": "stream",
     "text": [
      "esruoC nohtyP\n"
     ]
    }
   ],
   "source": [
    "text = \"Python Course\"\n",
    "a = text[::-1]\n",
    "print(a)"
   ]
  },
  {
   "cell_type": "markdown",
   "metadata": {},
   "source": [
    "## From the following text:\n",
    "\n",
    "### string = 'PKV-89415-PLN'\n",
    "\n",
    "## extract the code containing the first three and last three characters. Print the result to the console.\n",
    "\n",
    "## Expected result:\n",
    "\n",
    "### PKVPLN"
   ]
  },
  {
   "cell_type": "code",
   "execution_count": 3,
   "metadata": {},
   "outputs": [
    {
     "name": "stdout",
     "output_type": "stream",
     "text": [
      "PKVPLN\n"
     ]
    }
   ],
   "source": [
    "text = \"PKV-89415-PLN\"\n",
    "text1 = text[::-1]\n",
    "a = text1[0:3]\n",
    "b = a[::-1]\n",
    "c = text[0:3]\n",
    "d = c+b\n",
    "print(d)"
   ]
  },
  {
   "cell_type": "markdown",
   "metadata": {},
   "source": [
    "## From the given file name:\n",
    "\n",
    "### filename = 'view.jpg'\n",
    "\n",
    "## extract extension and print it to the console.\n",
    "\n",
    "\n",
    "## Expected result: \n",
    "\n",
    "### jpg\n",
    "\n"
   ]
  },
  {
   "cell_type": "code",
   "execution_count": 4,
   "metadata": {},
   "outputs": [
    {
     "name": "stdout",
     "output_type": "stream",
     "text": [
      "jpg\n"
     ]
    }
   ],
   "source": [
    "text = \"View.jpg\"\n",
    "print(text.rsplit('.',1)[1])"
   ]
  }
 ],
 "metadata": {
  "kernelspec": {
   "display_name": "Python 3.10.6 64-bit",
   "language": "python",
   "name": "python3"
  },
  "language_info": {
   "codemirror_mode": {
    "name": "ipython",
    "version": 3
   },
   "file_extension": ".py",
   "mimetype": "text/x-python",
   "name": "python",
   "nbconvert_exporter": "python",
   "pygments_lexer": "ipython3",
   "version": "3.10.6"
  },
  "orig_nbformat": 4,
  "vscode": {
   "interpreter": {
    "hash": "916dbcbb3f70747c44a77c7bcd40155683ae19c65e1c03b4aa3499c5328201f1"
   }
  }
 },
 "nbformat": 4,
 "nbformat_minor": 2
}
