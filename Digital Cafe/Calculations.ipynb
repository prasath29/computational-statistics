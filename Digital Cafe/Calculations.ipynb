{
 "cells": [
  {
   "cell_type": "markdown",
   "metadata": {},
   "source": [
    "# # Find the roots of the quadratic equation:\n",
    "\n",
    "### x2 + 5x + 4 = 0\n",
    "\n",
    "# Print the result to the console as shown below.\n",
    "\n",
    "## Expected result:\n",
    "\n",
    "###  x1 = -4.0\n",
    "\n",
    "### x2 = -1.0"
   ]
  },
  {
   "cell_type": "code",
   "execution_count": 2,
   "metadata": {},
   "outputs": [
    {
     "name": "stdout",
     "output_type": "stream",
     "text": [
      "x1 = -4.0\n",
      "x2 = -1.0\n"
     ]
    }
   ],
   "source": [
    "a = 1\n",
    "b = 5\n",
    "c = 4\n",
    "f = ((b**2)-(4*a*c))**(1/2)\n",
    "x1 = (-b-f)/(2*a)\n",
    "x2 = (-b+f)/(2*a)\n",
    "print(\"x1 = {}\".format(x1))\n",
    "print(\"x2 = {}\".format(x2))"
   ]
  },
  {
   "cell_type": "markdown",
   "metadata": {},
   "source": [
    "## Calculate the distance of two points A = (3, 2), B = (- 1, -1) and print result to the console as shown below.\n",
    "\n",
    "## Expected result:\n",
    "\n",
    "## The distance between points A and B: 5.0"
   ]
  },
  {
   "cell_type": "code",
   "execution_count": 3,
   "metadata": {},
   "outputs": [
    {
     "name": "stdout",
     "output_type": "stream",
     "text": [
      "The distance between points A and B: 5.0\n"
     ]
    }
   ],
   "source": [
    "x1 = 3\n",
    "y1 = 2\n",
    "x2 = -1\n",
    "y2 = -1\n",
    "f = ((((x2-x1)**2)+((y2-y1)**2))**0.5)\n",
    "print(\"The distance between points A and B: {}\".format(f))"
   ]
  },
  {
   "cell_type": "markdown",
   "metadata": {},
   "source": [
    "## Calculate the midpoint of the segment with ends at the points: A = (2, 4), B = (-4, 6) and print result to the console as shown below.\n",
    "\n",
    "## Expected result:\n",
    "\n",
    "## The middle point: (-1.0, 5.0)\n",
    "\n"
   ]
  },
  {
   "cell_type": "code",
   "execution_count": 4,
   "metadata": {},
   "outputs": [
    {
     "name": "stdout",
     "output_type": "stream",
     "text": [
      "The middle point: (-1.0, 5.0)\n"
     ]
    }
   ],
   "source": [
    "(a,b) = (2,4)\n",
    "(c,d) = (-4,6)\n",
    "x = (a+c)/2\n",
    "y = (b+d)/2\n",
    "print(\"The middle point: ({}, {})\".format(x,y))"
   ]
  },
  {
   "cell_type": "markdown",
   "metadata": {},
   "source": [
    "## Calculate the geometric mean of the following numbers: 4, 3, 4.5, 5 and print result to the console as shown below.\n",
    "\n",
    "## Expected result:\n",
    "\n",
    "## Geometric average of the given numbers: 4.05"
   ]
  },
  {
   "cell_type": "code",
   "execution_count": 6,
   "metadata": {},
   "outputs": [
    {
     "name": "stdout",
     "output_type": "stream",
     "text": [
      "Geometric average of the given numbers: 4.05\n"
     ]
    }
   ],
   "source": [
    "from scipy.stats import gmean\n",
    "f = gmean([4,3,4.5,5])\n",
    "print(\"Geometric average of the given numbers: {:.2f}\".format(f))"
   ]
  },
  {
   "cell_type": "markdown",
   "metadata": {},
   "source": [
    "## Write a program that calculates the delta for the quadratic equation:\n",
    "\n",
    "## 3x2 – 4x + 1 = 0\n",
    "\n",
    "## Print the result to the console as shown below.\n",
    "\n",
    "## Expected result:\n",
    "\n",
    "## Delta: 4"
   ]
  },
  {
   "cell_type": "code",
   "execution_count": 7,
   "metadata": {},
   "outputs": [
    {
     "name": "stdout",
     "output_type": "stream",
     "text": [
      "Delta: 4\n"
     ]
    }
   ],
   "source": [
    "a = 3\n",
    "b = -4\n",
    "c = 1\n",
    "f = (b**2)-4*a*c\n",
    "print(\"Delta: {}\".format(f))"
   ]
  },
  {
   "cell_type": "markdown",
   "metadata": {},
   "source": [
    "## The quadratic equation is given with the following formula:\n",
    "\n",
    "### x2 + 5x + 4 = 0\n",
    "\n",
    "## Using Vieta's formulas calculate the sum and product of the roots of this quadratic equation. Print the result to the console as shown below.\n",
    "\n",
    "## Expected result:\n",
    "\n",
    "### x1 + x2 = -5.0\n",
    "\n",
    "### x1x2 = 4.0"
   ]
  },
  {
   "cell_type": "code",
   "execution_count": 8,
   "metadata": {},
   "outputs": [
    {
     "name": "stdout",
     "output_type": "stream",
     "text": [
      "x1 + x2 = -5.0\n",
      "x1x2 = 4.0\n"
     ]
    }
   ],
   "source": [
    "a =1 \n",
    "b =5\n",
    "c =4\n",
    "print(\"x1 + x2 = {}\".format(-b/a))\n",
    "print(\"x1x2 = {}\".format(c/a))"
   ]
  },
  {
   "cell_type": "markdown",
   "metadata": {},
   "source": [
    "## The arithmetic sequence is given with the following formula:\n",
    "\n",
    "### an = 10 + 4n\n",
    "\n",
    "## Calculate the sum of the first ten elements of this sequence. Print the result to the console as shown below.\n",
    "\n",
    "## Expected result:\n",
    "\n",
    "## The sum of the first 10 elements in a sequence: 320.0"
   ]
  },
  {
   "cell_type": "code",
   "execution_count": 9,
   "metadata": {},
   "outputs": [
    {
     "name": "stdout",
     "output_type": "stream",
     "text": [
      "The sum of the first 10 elements in a sequence: 320.0\n"
     ]
    }
   ],
   "source": [
    "a1 = 14\n",
    "an = 50\n",
    "n = 10\n",
    "gs = (n/2)*(a1+an)\n",
    "print(\"The sum of the first 10 elements in a sequence: {}\".format(gs))"
   ]
  },
  {
   "cell_type": "markdown",
   "metadata": {},
   "source": [
    "## The geometric sequence is given with the following formula:\n",
    "\n",
    "### an = 8 . 2n-1\n",
    "\n",
    "## Calculate the sum of the first six elements of this sequence. Print the result to the console as shown below.\n",
    "\n",
    "## Expected result:\n",
    "\n",
    "## The sum of the first 6 elements of the sequence is: 504.0"
   ]
  },
  {
   "cell_type": "code",
   "execution_count": 10,
   "metadata": {},
   "outputs": [
    {
     "name": "stdout",
     "output_type": "stream",
     "text": [
      "The sum of the first 6 elements of the sequence is: 504.0\n"
     ]
    }
   ],
   "source": [
    "a1 = 8\n",
    "a2 = 16\n",
    "r = a2/a1\n",
    "n = 6\n",
    "f = (a1*(1-(r**n)))/(1-r)\n",
    "print(\"The sum of the first 6 elements of the sequence is: {}\".format(f))"
   ]
  },
  {
   "cell_type": "markdown",
   "metadata": {},
   "source": [
    "## An infinite geometric sequence is given with the following formula:\n",
    "\n",
    "### 1, 1/2, 1/4, 1/8, . . .\n",
    "\n",
    "## Calculate the sum of this sequence. Print the result to the console as shown below.\n",
    "\n",
    "## Expected result:\n",
    "\n",
    "## The sum of the sequence: 2.0"
   ]
  },
  {
   "cell_type": "code",
   "execution_count": 11,
   "metadata": {},
   "outputs": [
    {
     "name": "stdout",
     "output_type": "stream",
     "text": [
      "The sum of the sequence: 2.0\n"
     ]
    }
   ],
   "source": [
    "a1 = 1\n",
    "r = 1/2\n",
    "f = a1/(1-r)\n",
    "print(\"The sum of the sequence: {}\".format(f))"
   ]
  },
  {
   "cell_type": "markdown",
   "metadata": {},
   "source": [
    "## Calculate the standard deviation of the following set of data: 10, 11, 9.\n",
    "\n",
    "## Print the result to the console as shown below.\n",
    "\n",
    "## Expected result:\n",
    "\n",
    "### The standard deviation: 0.82"
   ]
  },
  {
   "cell_type": "code",
   "execution_count": 12,
   "metadata": {},
   "outputs": [
    {
     "name": "stdout",
     "output_type": "stream",
     "text": [
      "The standard deviation: 0.82\n"
     ]
    }
   ],
   "source": [
    "import numpy \n",
    "value = [10,11,9] \n",
    "x = numpy.std(value)\n",
    "y = str(round(x,2))\n",
    "print(\"The standard deviation: {}\".format(y))\n"
   ]
  },
  {
   "cell_type": "markdown",
   "metadata": {},
   "source": [
    "## Write a program that calculates the area of a circle with a radius = 5. Use an approximate value of pi:\n",
    "\n",
    "### pi = 3.14\n",
    "\n",
    "## Print the result to the console as shown below.\n",
    "\n",
    "## Expected result:\n",
    "\n",
    "### Area: 78.5"
   ]
  },
  {
   "cell_type": "code",
   "execution_count": 13,
   "metadata": {},
   "outputs": [
    {
     "name": "stdout",
     "output_type": "stream",
     "text": [
      "Area: 78.5\n"
     ]
    }
   ],
   "source": [
    "r = 5\n",
    "pi = 3.14\n",
    "res = pi*(r**2)\n",
    "print(\"Area: {}\".format(res))"
   ]
  },
  {
   "cell_type": "markdown",
   "metadata": {},
   "source": [
    "## Write a program that calculates the future value of 1000 USD with an annual interest rate of 3%, annual capitalization and a 5-year investment period. Round the result to the nearest cent.\n",
    "\n",
    "## Tip: Use compound capitalization of interest.\n",
    "\n",
    "## Print the result to the console as shown below.\n",
    "\n",
    "## Expected result:\n",
    "\n",
    "## The future value of the investment: 1159.27 USD"
   ]
  },
  {
   "cell_type": "code",
   "execution_count": 14,
   "metadata": {},
   "outputs": [
    {
     "name": "stdout",
     "output_type": "stream",
     "text": [
      "The future value of the investment: 1159.27 USD\n"
     ]
    }
   ],
   "source": [
    "amount = 1000\n",
    "per = 3\n",
    "years = 5\n",
    "fv = amount*((1+(0.01*per)))**years\n",
    "result = round(fv,2)\n",
    "print(\"The future value of the investment: {} USD\".format(result)) "
   ]
  }
 ],
 "metadata": {
  "kernelspec": {
   "display_name": "Python 3.10.6 64-bit",
   "language": "python",
   "name": "python3"
  },
  "language_info": {
   "codemirror_mode": {
    "name": "ipython",
    "version": 3
   },
   "file_extension": ".py",
   "mimetype": "text/x-python",
   "name": "python",
   "nbconvert_exporter": "python",
   "pygments_lexer": "ipython3",
   "version": "3.10.6"
  },
  "orig_nbformat": 4,
  "vscode": {
   "interpreter": {
    "hash": "916dbcbb3f70747c44a77c7bcd40155683ae19c65e1c03b4aa3499c5328201f1"
   }
  }
 },
 "nbformat": 4,
 "nbformat_minor": 2
}
