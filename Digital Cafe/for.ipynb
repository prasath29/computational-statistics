{
 "cells": [
  {
   "cell_type": "markdown",
   "metadata": {},
   "source": [
    "## The following list is given:\n",
    "\n",
    "### items = [1, 5, 3, 2, 2, 4, 2, 4]\n",
    "\n",
    "## Write a program that removes duplicates from the list (the order must be kept) and print the list to the console.\n",
    "\n",
    "## Expected result:\n",
    "\n",
    "### [1, 5, 3, 2, 4]"
   ]
  },
  {
   "cell_type": "code",
   "execution_count": 1,
   "metadata": {},
   "outputs": [
    {
     "name": "stdout",
     "output_type": "stream",
     "text": [
      "[1, 5, 3, 2, 4]\n"
     ]
    }
   ],
   "source": [
    "items = [1,5,3,2,2,4,2,4]\n",
    "uni = []\n",
    "\n",
    "for ele in items:\n",
    "    if ele not in uni:\n",
    "        uni.append(ele)\n",
    "        \n",
    "print(uni)"
   ]
  },
  {
   "cell_type": "markdown",
   "metadata": {},
   "source": [
    "## The list of stock indexes is given:\n",
    "\n",
    "### indexes = [    \n",
    "\n",
    "### 'BOVESPA', 'DOW JONES COMP', 'DOW JONES INDU',    \n",
    "\n",
    "### 'DOW JONES TRANS', 'DOW JONES UTIL', 'IPC',    \n",
    "\n",
    "### 'IPSA', 'MERVAL', 'NASDAQ COMP', 'NASDAQ100',    \n",
    "\n",
    "### 'S&P500', 'S&P/TSX COMP'\n",
    "\n",
    "### ]\n",
    "\n",
    "## Iterate through the indexes list and print to the console only those indexes containing 'DOW' or 'S&P'.\n",
    "\n",
    "## Expected result:\n",
    "\n",
    "### DOW JONES COMP\n",
    "\n",
    "### DOW JONES INDU\n",
    "\n",
    "### DOW JONES TRANS\n",
    "\n",
    "### DOW JONES UTIL\n",
    "\n",
    "### S&P500\n",
    "\n",
    "### S&P/TSX COMP\n",
    "\n"
   ]
  },
  {
   "cell_type": "code",
   "execution_count": 2,
   "metadata": {},
   "outputs": [
    {
     "name": "stdout",
     "output_type": "stream",
     "text": [
      "DOW JONES COMP\n",
      "DOW JONES INDU\n",
      "DOW JONES TRANS\n",
      "DOW JONES UTIL\n",
      "S&P500\n",
      "S&P/TSX COMP\n"
     ]
    }
   ],
   "source": [
    "input=['BOVESPA','DOW JONES COMP','DOW JONES INDU','DOW JONES TRANS','DOW JONES UTIL','IPC','IPSA','MERVAL','NASDAQ100','NASDAQ COMP','S&P500','S&P/TSX COMP']\n",
    "s = 'DOW JONES'\n",
    "q = 'S&P'\n",
    "for row in input:\n",
    "     if(s in row or q in row):\n",
    "           print(row)"
   ]
  },
  {
   "cell_type": "markdown",
   "metadata": {},
   "source": [
    "## Write a program that finds all two-digit numbers divisible by 11 and indivisible by 3 (use a for loop). Print the result to the console as comma-separated values as shown below.\n",
    "\n",
    "## Expected result:\n",
    "\n",
    "#### 11,22,44,55,77,88"
   ]
  },
  {
   "cell_type": "code",
   "execution_count": 3,
   "metadata": {},
   "outputs": [
    {
     "name": "stdout",
     "output_type": "stream",
     "text": [
      "11,22,44,55,77,88\n"
     ]
    }
   ],
   "source": [
    "arr=[]\n",
    "for i in range (1,100):\n",
    "    if i%11 == 0 and i%3 !=0:\n",
    "        arr.append(str(i))\n",
    "res = ','.join(arr)\n",
    "print(res)"
   ]
  },
  {
   "cell_type": "markdown",
   "metadata": {},
   "source": [
    "## The following text is given:\n",
    "\n",
    "### text = 'Python is a very popular programming language'\n",
    "\n",
    "## Write a program which extracts exactly the first four words as a list. Standardize each word, i.e. replace uppercase letters with lowercase. Present the result in a list and print to the console as shown below.\n",
    "\n",
    "## Expected result:\n",
    "\n",
    "### ['python', 'is', 'a', 'very']"
   ]
  },
  {
   "cell_type": "code",
   "execution_count": 4,
   "metadata": {},
   "outputs": [
    {
     "name": "stdout",
     "output_type": "stream",
     "text": [
      "['python', 'is', 'a', 'very']\n"
     ]
    }
   ],
   "source": [
    "from posixpath import split\n",
    "import numpy as np\n",
    " \n",
    "text = \"Python is a very popular programming language\"\n",
    "arr1 = text.split(\" \")\n",
    "word= arr1[0:4]\n",
    "word2 = []\n",
    "for i in word:\n",
    "    word2.append(i.lower())\n",
    "print(word2)"
   ]
  },
  {
   "cell_type": "markdown",
   "metadata": {},
   "source": [
    "## The following list of numbers is given:\n",
    "\n",
    "### items = [1, 3, 4, 5, 6, 9, 10, 17, 23, 24]\n",
    "\n",
    "## Write a program that removes odd numbers and returns the remaining ones. Print the result to the console.\n",
    "\n",
    "## Expected results:\n",
    "\n",
    "### [4, 6, 10, 24]"
   ]
  },
  {
   "cell_type": "code",
   "execution_count": 5,
   "metadata": {},
   "outputs": [
    {
     "name": "stdout",
     "output_type": "stream",
     "text": [
      "[4, 6, 10, 24]\n"
     ]
    }
   ],
   "source": [
    "items = [1,3,4,5,6,9,10,17,23,24]\n",
    "arr1 = []\n",
    "for i in range(len(items)):\n",
    "    if items[i]%2 ==0:\n",
    "        arr1.append(items[i])\n",
    "print(arr1)"
   ]
  },
  {
   "cell_type": "markdown",
   "metadata": {},
   "source": [
    "## A list of names entered by users into the system is given below (without validation process):\n",
    "\n",
    "###  names = ['Jack', 'Leon', 'Alice', '32-3c', 'Bob']\n",
    "\n",
    "## Iterate through the names list and check if each name is correct (contains only letters). If so, print to the console following message: 'Hello {name}!' otherwise do nothing.\n",
    "\n",
    "## Tip: Use the str.isalpha() method.\n",
    "\n",
    "### Expected result:\n",
    "\n",
    "### Hello Jack!\n",
    "\n",
    "### Hello Leon!\n",
    "\n",
    "### Hello Alice!\n",
    "\n",
    "### Hello Bob!"
   ]
  },
  {
   "cell_type": "code",
   "execution_count": 6,
   "metadata": {},
   "outputs": [
    {
     "name": "stdout",
     "output_type": "stream",
     "text": [
      "Hello Jack!\n",
      "Hello Leon!\n",
      "Hello Alice!\n",
      "Hello Bob!\n"
     ]
    }
   ],
   "source": [
    "names = ['Jack','Leon','Alice','32-3c','Bob']\n",
    "result=\"\"\n",
    "for i in range(len(names)):\n",
    "    if names[i].isalpha():\n",
    "        result = names[i]\n",
    "        print(\"Hello {}!\".format(result))"
   ]
  },
  {
   "cell_type": "markdown",
   "metadata": {},
   "source": [
    "## Consider the problem of binary classification in machine learning. The machine learning model returns the probability of belonging to the class. If it's less than 0.5, the sample is assigned to class 0, otherwise to class 1.\n",
    "\n",
    "### A list of probabilities from the machine learning model is given:\n",
    "\n",
    "#### probabilities = [0.21, 0.91, 0.34, 0.55, 0.76, 0.02]\n",
    "\n",
    "## Write a program that assigns class 0 for values less than 0.5 and 1 for values greater than or equal to 0.5. Print the result to the console as shown below.\n",
    "\n",
    "## Expected result:\n",
    "\n",
    "### [0, 1, 0, 1, 1, 0]\n",
    "\n"
   ]
  },
  {
   "cell_type": "code",
   "execution_count": 7,
   "metadata": {},
   "outputs": [
    {
     "name": "stdout",
     "output_type": "stream",
     "text": [
      "[0, 1, 0, 1, 1, 0]\n"
     ]
    }
   ],
   "source": [
    "probabilities = [0.21,0.91,0.34,0.55,0.76,0.02]\n",
    "arr = []\n",
    "for x in probabilities:\n",
    "    if x > 0.5:\n",
    "     arr.append(1)\n",
    "    else:\n",
    "     arr.append(0)\n",
    "print(arr)"
   ]
  },
  {
   "cell_type": "markdown",
   "metadata": {},
   "source": [
    "## Write a program that finds all two-digit numbers divisible by 11 (use a for loop). Print the result to the console as comma-separated values as shown below.\n",
    "\n",
    "## Expected result:\n",
    "\n",
    "### 11,22,33,44,55,66,77,88,99"
   ]
  },
  {
   "cell_type": "code",
   "execution_count": 8,
   "metadata": {},
   "outputs": [
    {
     "name": "stdout",
     "output_type": "stream",
     "text": [
      "11,22,33,44,55,66,77,88,99\n"
     ]
    }
   ],
   "source": [
    "arr=[]\n",
    "for i in range (1,100):\n",
    "    if i%11 == 0:\n",
    "        arr.append(str(i))\n",
    "res = ','.join(arr)\n",
    "print(res)"
   ]
  },
  {
   "cell_type": "markdown",
   "metadata": {},
   "source": [
    "## The following text is given:\n",
    "\n",
    "### text = \"\"\"Python is powerful... and fast\n",
    "\n",
    "### plays well with others\n",
    "\n",
    "### runs everywhere\n",
    "\n",
    "### is friendly & easy to learn\n",
    "\n",
    "### is Open\n",
    "\n",
    "### These are some of the reasons people who use Python would rather not use anything else\"\"\"\n",
    "\n",
    "## Create a list of words from the given text. Then standardize this text (change uppercase letters to lowercase, remove punctuation marks). Extract words longer than six characters and print the result to the console.\n",
    "\n",
    "## Expected result:\n",
    "\n",
    "### ['powerful', 'everywhere', 'friendly', 'reasons', 'anything']"
   ]
  },
  {
   "cell_type": "code",
   "execution_count": 9,
   "metadata": {},
   "outputs": [
    {
     "name": "stdout",
     "output_type": "stream",
     "text": [
      "['powerful', 'everywhere', 'friendly', 'reasons', 'anything']\n"
     ]
    }
   ],
   "source": [
    "input = \"\"\"Python is powerful... and fast plays well with others runs everywhere is friendly & easy to learn is Open These are some of the reasons people who use Python would rather not use anything else\"\"\"\n",
    "arr = input.split(\" \")\n",
    "ans =[]\n",
    "for row in arr:\n",
    "    row = row.replace('.', '')\n",
    "    if(len(row) >6):\n",
    "        ans.append(row)\n",
    "print(ans)"
   ]
  },
  {
   "cell_type": "markdown",
   "metadata": {},
   "source": [
    "## Write a program that returns a list of values above the given threshold = 0.5 from the following list:\n",
    "\n",
    "### probabilities = [0.21, 0.91, 0.34, 0.55, 0.76, 0.02]\n",
    "\n",
    "## Expected result:\n",
    "\n",
    "### [0.91, 0.55, 0.76]\n",
    "\n"
   ]
  },
  {
   "cell_type": "code",
   "execution_count": 10,
   "metadata": {},
   "outputs": [
    {
     "name": "stdout",
     "output_type": "stream",
     "text": [
      "[0.91, 0.55, 0.76]\n"
     ]
    }
   ],
   "source": [
    "probabilities = [0.21,0.91,0.34,0.55,0.76,0.02]\n",
    "arr = []\n",
    "for x in probabilities:\n",
    "    if x > 0.5:\n",
    "     arr.append(x)\n",
    "print(arr)"
   ]
  }
 ],
 "metadata": {
  "kernelspec": {
   "display_name": "Python 3.10.6 64-bit",
   "language": "python",
   "name": "python3"
  },
  "language_info": {
   "codemirror_mode": {
    "name": "ipython",
    "version": 3
   },
   "file_extension": ".py",
   "mimetype": "text/x-python",
   "name": "python",
   "nbconvert_exporter": "python",
   "pygments_lexer": "ipython3",
   "version": "3.10.6"
  },
  "orig_nbformat": 4,
  "vscode": {
   "interpreter": {
    "hash": "916dbcbb3f70747c44a77c7bcd40155683ae19c65e1c03b4aa3499c5328201f1"
   }
  }
 },
 "nbformat": 4,
 "nbformat_minor": 2
}
